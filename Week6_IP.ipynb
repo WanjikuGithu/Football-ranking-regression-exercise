{
  "nbformat": 4,
  "nbformat_minor": 0,
  "metadata": {
    "colab": {
      "name": "Week6_IP.ipynb",
      "provenance": [],
      "collapsed_sections": [],
      "authorship_tag": "ABX9TyOS78sCbsXw4J+zgebquRbn",
      "include_colab_link": true
    },
    "kernelspec": {
      "name": "python3",
      "display_name": "Python 3"
    }
  },
  "cells": [
    {
      "cell_type": "markdown",
      "metadata": {
        "id": "view-in-github",
        "colab_type": "text"
      },
      "source": [
        "<a href=\"https://colab.research.google.com/github/WanjikuGithu/Football-ranking-regression-exercise/blob/master/Week6_IP.ipynb\" target=\"_parent\"><img src=\"https://colab.research.google.com/assets/colab-badge.svg\" alt=\"Open In Colab\"/></a>"
      ]
    },
    {
      "cell_type": "markdown",
      "metadata": {
        "id": "5dD4mZQ2OtRP",
        "colab_type": "text"
      },
      "source": [
        "**Fifa World Ranking Dataset: A Regression Exercise**"
      ]
    },
    {
      "cell_type": "markdown",
      "metadata": {
        "id": "5awTxiVNOuJY",
        "colab_type": "text"
      },
      "source": [
        "1. Defining the question"
      ]
    },
    {
      "cell_type": "markdown",
      "metadata": {
        "id": "ImrTpuDuOuoi",
        "colab_type": "text"
      },
      "source": [
        "a. Specifying the question\n",
        "\n",
        "As a football analyst, a task to predict the results of a game between two teams based on who's home and who's away has been allocated to you and you are to use two approaches: Polynomial and Logistic Regression "
      ]
    },
    {
      "cell_type": "markdown",
      "metadata": {
        "id": "kKYDIwGqOu64",
        "colab_type": "text"
      },
      "source": [
        "b. Defining the metrics for success\n",
        "\n",
        "The prediction will be deemed successful when we have the following:\n",
        "\n",
        "\n",
        "\n",
        "*   Exploratory data analysis results\n",
        "*   Two Polynomial models predicting the number of scores( for home and away teams) and their RMSEs\n",
        "*   Logistic regression model and its accuracy score\n",
        "\n"
      ]
    },
    {
      "cell_type": "markdown",
      "metadata": {
        "id": "5W5ilschOvJG",
        "colab_type": "text"
      },
      "source": [
        "c. Understanding the context\n",
        "\n",
        "The FIFA ranking system relies on adding/subtracting points won or lost for a game to/from the previous point totals rather than averaging game points over a given time period as in the previous version of the World Ranking.\n",
        "In our case two datasets have been provided namely: FIFA ranking data and results data. It contains the average points awarded for previous years and home and away scores features."
      ]
    },
    {
      "cell_type": "markdown",
      "metadata": {
        "id": "fpL-Fl6ePVej",
        "colab_type": "text"
      },
      "source": [
        "d. Recording the Experimental Design\n",
        "The following are the steps taken in the analysis process:\n",
        "\n",
        "\n",
        "*   Performing the Exploratory Data Analysis\n",
        "*   Feature engineering through generating new features\n",
        "*   Checking for multicollinearity\n",
        "*   Building the models\n",
        "*   Validating the models by looking at their accuracy metrics\n",
        "\n",
        "\n",
        "\n"
      ]
    },
    {
      "cell_type": "markdown",
      "metadata": {
        "id": "H-teOw9EPl2x",
        "colab_type": "text"
      },
      "source": [
        "Reading the Data"
      ]
    },
    {
      "cell_type": "code",
      "metadata": {
        "id": "3Bn5js1FNmb1",
        "colab_type": "code",
        "colab": {}
      },
      "source": [
        "# Importing the relevant libraries\n",
        "import pandas as pd\n",
        "import numpy as np\n",
        "import matplotlib.pyplot as plt\n",
        "import seaborn as sns\n",
        "import datetime as dt\n",
        "import scipy as sp\n",
        "\n",
        "from sklearn import linear_model\n",
        "from sklearn import preprocessing\n",
        "from sklearn import metrics\n",
        "from sklearn.metrics import confusion_matrix\n",
        "from sklearn.preprocessing import PolynomialFeatures\n",
        "from sklearn.model_selection import train_test_split\n",
        "from statsmodels.stats.outliers_influence import variance_inflation_factor\n",
        "from sklearn.linear_model import LogisticRegression\n",
        "from sklearn.linear_model import LinearRegression\n",
        "from sklearn.model_selection import GridSearchCV"
      ],
      "execution_count": 103,
      "outputs": []
    },
    {
      "cell_type": "code",
      "metadata": {
        "id": "c4C4tD_bQeAG",
        "colab_type": "code",
        "colab": {}
      },
      "source": [
        "# Loading the datasets\n",
        "ranking_df = pd.read_csv('fifa_ranking.csv')\n",
        "results_df = pd.read_csv('results.csv')"
      ],
      "execution_count": 104,
      "outputs": []
    },
    {
      "cell_type": "markdown",
      "metadata": {
        "id": "0drYSC6eRQVC",
        "colab_type": "text"
      },
      "source": [
        "3. Checking the data"
      ]
    },
    {
      "cell_type": "code",
      "metadata": {
        "id": "xyE_rPZIRTKR",
        "colab_type": "code",
        "colab": {
          "base_uri": "https://localhost:8080/",
          "height": 54
        },
        "outputId": "087c6568-f721-4c8b-bd5c-a0055ca44a8e"
      },
      "source": [
        "# Determining the number of records in our dataset\n",
        "print(ranking_df.shape)\n",
        "print(results_df.shape)"
      ],
      "execution_count": 105,
      "outputs": [
        {
          "output_type": "stream",
          "text": [
            "(57793, 16)\n",
            "(40839, 9)\n"
          ],
          "name": "stdout"
        }
      ]
    },
    {
      "cell_type": "code",
      "metadata": {
        "id": "HvLlQ77YRoSJ",
        "colab_type": "code",
        "colab": {
          "base_uri": "https://localhost:8080/",
          "height": 305
        },
        "outputId": "61eebf87-263f-425c-a550-ea769ee44592"
      },
      "source": [
        "# Previewing the top of our Fifa ranking dataset\n",
        "ranking_df.head()"
      ],
      "execution_count": 106,
      "outputs": [
        {
          "output_type": "execute_result",
          "data": {
            "text/html": [
              "<div>\n",
              "<style scoped>\n",
              "    .dataframe tbody tr th:only-of-type {\n",
              "        vertical-align: middle;\n",
              "    }\n",
              "\n",
              "    .dataframe tbody tr th {\n",
              "        vertical-align: top;\n",
              "    }\n",
              "\n",
              "    .dataframe thead th {\n",
              "        text-align: right;\n",
              "    }\n",
              "</style>\n",
              "<table border=\"1\" class=\"dataframe\">\n",
              "  <thead>\n",
              "    <tr style=\"text-align: right;\">\n",
              "      <th></th>\n",
              "      <th>rank</th>\n",
              "      <th>country_full</th>\n",
              "      <th>country_abrv</th>\n",
              "      <th>total_points</th>\n",
              "      <th>previous_points</th>\n",
              "      <th>rank_change</th>\n",
              "      <th>cur_year_avg</th>\n",
              "      <th>cur_year_avg_weighted</th>\n",
              "      <th>last_year_avg</th>\n",
              "      <th>last_year_avg_weighted</th>\n",
              "      <th>two_year_ago_avg</th>\n",
              "      <th>two_year_ago_weighted</th>\n",
              "      <th>three_year_ago_avg</th>\n",
              "      <th>three_year_ago_weighted</th>\n",
              "      <th>confederation</th>\n",
              "      <th>rank_date</th>\n",
              "    </tr>\n",
              "  </thead>\n",
              "  <tbody>\n",
              "    <tr>\n",
              "      <th>0</th>\n",
              "      <td>1</td>\n",
              "      <td>Germany</td>\n",
              "      <td>GER</td>\n",
              "      <td>0.0</td>\n",
              "      <td>57</td>\n",
              "      <td>0</td>\n",
              "      <td>0.0</td>\n",
              "      <td>0.0</td>\n",
              "      <td>0.0</td>\n",
              "      <td>0.0</td>\n",
              "      <td>0.0</td>\n",
              "      <td>0.0</td>\n",
              "      <td>0.0</td>\n",
              "      <td>0.0</td>\n",
              "      <td>UEFA</td>\n",
              "      <td>1993-08-08</td>\n",
              "    </tr>\n",
              "    <tr>\n",
              "      <th>1</th>\n",
              "      <td>2</td>\n",
              "      <td>Italy</td>\n",
              "      <td>ITA</td>\n",
              "      <td>0.0</td>\n",
              "      <td>57</td>\n",
              "      <td>0</td>\n",
              "      <td>0.0</td>\n",
              "      <td>0.0</td>\n",
              "      <td>0.0</td>\n",
              "      <td>0.0</td>\n",
              "      <td>0.0</td>\n",
              "      <td>0.0</td>\n",
              "      <td>0.0</td>\n",
              "      <td>0.0</td>\n",
              "      <td>UEFA</td>\n",
              "      <td>1993-08-08</td>\n",
              "    </tr>\n",
              "    <tr>\n",
              "      <th>2</th>\n",
              "      <td>3</td>\n",
              "      <td>Switzerland</td>\n",
              "      <td>SUI</td>\n",
              "      <td>0.0</td>\n",
              "      <td>50</td>\n",
              "      <td>9</td>\n",
              "      <td>0.0</td>\n",
              "      <td>0.0</td>\n",
              "      <td>0.0</td>\n",
              "      <td>0.0</td>\n",
              "      <td>0.0</td>\n",
              "      <td>0.0</td>\n",
              "      <td>0.0</td>\n",
              "      <td>0.0</td>\n",
              "      <td>UEFA</td>\n",
              "      <td>1993-08-08</td>\n",
              "    </tr>\n",
              "    <tr>\n",
              "      <th>3</th>\n",
              "      <td>4</td>\n",
              "      <td>Sweden</td>\n",
              "      <td>SWE</td>\n",
              "      <td>0.0</td>\n",
              "      <td>55</td>\n",
              "      <td>0</td>\n",
              "      <td>0.0</td>\n",
              "      <td>0.0</td>\n",
              "      <td>0.0</td>\n",
              "      <td>0.0</td>\n",
              "      <td>0.0</td>\n",
              "      <td>0.0</td>\n",
              "      <td>0.0</td>\n",
              "      <td>0.0</td>\n",
              "      <td>UEFA</td>\n",
              "      <td>1993-08-08</td>\n",
              "    </tr>\n",
              "    <tr>\n",
              "      <th>4</th>\n",
              "      <td>5</td>\n",
              "      <td>Argentina</td>\n",
              "      <td>ARG</td>\n",
              "      <td>0.0</td>\n",
              "      <td>51</td>\n",
              "      <td>5</td>\n",
              "      <td>0.0</td>\n",
              "      <td>0.0</td>\n",
              "      <td>0.0</td>\n",
              "      <td>0.0</td>\n",
              "      <td>0.0</td>\n",
              "      <td>0.0</td>\n",
              "      <td>0.0</td>\n",
              "      <td>0.0</td>\n",
              "      <td>CONMEBOL</td>\n",
              "      <td>1993-08-08</td>\n",
              "    </tr>\n",
              "  </tbody>\n",
              "</table>\n",
              "</div>"
            ],
            "text/plain": [
              "   rank country_full  ... confederation   rank_date\n",
              "0     1      Germany  ...          UEFA  1993-08-08\n",
              "1     2        Italy  ...          UEFA  1993-08-08\n",
              "2     3  Switzerland  ...          UEFA  1993-08-08\n",
              "3     4       Sweden  ...          UEFA  1993-08-08\n",
              "4     5    Argentina  ...      CONMEBOL  1993-08-08\n",
              "\n",
              "[5 rows x 16 columns]"
            ]
          },
          "metadata": {
            "tags": []
          },
          "execution_count": 106
        }
      ]
    },
    {
      "cell_type": "code",
      "metadata": {
        "id": "6rXtKOq6R-n-",
        "colab_type": "code",
        "colab": {
          "base_uri": "https://localhost:8080/",
          "height": 305
        },
        "outputId": "65f64eb1-0d09-403c-beea-c69b41aabbda"
      },
      "source": [
        "# Previewing the bottom of our dataset\n",
        "ranking_df.tail()"
      ],
      "execution_count": 107,
      "outputs": [
        {
          "output_type": "execute_result",
          "data": {
            "text/html": [
              "<div>\n",
              "<style scoped>\n",
              "    .dataframe tbody tr th:only-of-type {\n",
              "        vertical-align: middle;\n",
              "    }\n",
              "\n",
              "    .dataframe tbody tr th {\n",
              "        vertical-align: top;\n",
              "    }\n",
              "\n",
              "    .dataframe thead th {\n",
              "        text-align: right;\n",
              "    }\n",
              "</style>\n",
              "<table border=\"1\" class=\"dataframe\">\n",
              "  <thead>\n",
              "    <tr style=\"text-align: right;\">\n",
              "      <th></th>\n",
              "      <th>rank</th>\n",
              "      <th>country_full</th>\n",
              "      <th>country_abrv</th>\n",
              "      <th>total_points</th>\n",
              "      <th>previous_points</th>\n",
              "      <th>rank_change</th>\n",
              "      <th>cur_year_avg</th>\n",
              "      <th>cur_year_avg_weighted</th>\n",
              "      <th>last_year_avg</th>\n",
              "      <th>last_year_avg_weighted</th>\n",
              "      <th>two_year_ago_avg</th>\n",
              "      <th>two_year_ago_weighted</th>\n",
              "      <th>three_year_ago_avg</th>\n",
              "      <th>three_year_ago_weighted</th>\n",
              "      <th>confederation</th>\n",
              "      <th>rank_date</th>\n",
              "    </tr>\n",
              "  </thead>\n",
              "  <tbody>\n",
              "    <tr>\n",
              "      <th>57788</th>\n",
              "      <td>206</td>\n",
              "      <td>Anguilla</td>\n",
              "      <td>AIA</td>\n",
              "      <td>0.0</td>\n",
              "      <td>0</td>\n",
              "      <td>1</td>\n",
              "      <td>0.0</td>\n",
              "      <td>0.0</td>\n",
              "      <td>0.0</td>\n",
              "      <td>0.0</td>\n",
              "      <td>0.0</td>\n",
              "      <td>0.0</td>\n",
              "      <td>0.0</td>\n",
              "      <td>0.0</td>\n",
              "      <td>CONCACAF</td>\n",
              "      <td>2018-06-07</td>\n",
              "    </tr>\n",
              "    <tr>\n",
              "      <th>57789</th>\n",
              "      <td>206</td>\n",
              "      <td>Bahamas</td>\n",
              "      <td>BAH</td>\n",
              "      <td>0.0</td>\n",
              "      <td>0</td>\n",
              "      <td>1</td>\n",
              "      <td>0.0</td>\n",
              "      <td>0.0</td>\n",
              "      <td>0.0</td>\n",
              "      <td>0.0</td>\n",
              "      <td>0.0</td>\n",
              "      <td>0.0</td>\n",
              "      <td>0.0</td>\n",
              "      <td>0.0</td>\n",
              "      <td>CONCACAF</td>\n",
              "      <td>2018-06-07</td>\n",
              "    </tr>\n",
              "    <tr>\n",
              "      <th>57790</th>\n",
              "      <td>206</td>\n",
              "      <td>Eritrea</td>\n",
              "      <td>ERI</td>\n",
              "      <td>0.0</td>\n",
              "      <td>0</td>\n",
              "      <td>1</td>\n",
              "      <td>0.0</td>\n",
              "      <td>0.0</td>\n",
              "      <td>0.0</td>\n",
              "      <td>0.0</td>\n",
              "      <td>0.0</td>\n",
              "      <td>0.0</td>\n",
              "      <td>0.0</td>\n",
              "      <td>0.0</td>\n",
              "      <td>CAF</td>\n",
              "      <td>2018-06-07</td>\n",
              "    </tr>\n",
              "    <tr>\n",
              "      <th>57791</th>\n",
              "      <td>206</td>\n",
              "      <td>Somalia</td>\n",
              "      <td>SOM</td>\n",
              "      <td>0.0</td>\n",
              "      <td>0</td>\n",
              "      <td>1</td>\n",
              "      <td>0.0</td>\n",
              "      <td>0.0</td>\n",
              "      <td>0.0</td>\n",
              "      <td>0.0</td>\n",
              "      <td>0.0</td>\n",
              "      <td>0.0</td>\n",
              "      <td>0.0</td>\n",
              "      <td>0.0</td>\n",
              "      <td>CAF</td>\n",
              "      <td>2018-06-07</td>\n",
              "    </tr>\n",
              "    <tr>\n",
              "      <th>57792</th>\n",
              "      <td>206</td>\n",
              "      <td>Tonga</td>\n",
              "      <td>TGA</td>\n",
              "      <td>0.0</td>\n",
              "      <td>0</td>\n",
              "      <td>1</td>\n",
              "      <td>0.0</td>\n",
              "      <td>0.0</td>\n",
              "      <td>0.0</td>\n",
              "      <td>0.0</td>\n",
              "      <td>0.0</td>\n",
              "      <td>0.0</td>\n",
              "      <td>0.0</td>\n",
              "      <td>0.0</td>\n",
              "      <td>OFC</td>\n",
              "      <td>2018-06-07</td>\n",
              "    </tr>\n",
              "  </tbody>\n",
              "</table>\n",
              "</div>"
            ],
            "text/plain": [
              "       rank country_full  ... confederation   rank_date\n",
              "57788   206     Anguilla  ...      CONCACAF  2018-06-07\n",
              "57789   206      Bahamas  ...      CONCACAF  2018-06-07\n",
              "57790   206      Eritrea  ...           CAF  2018-06-07\n",
              "57791   206      Somalia  ...           CAF  2018-06-07\n",
              "57792   206        Tonga  ...           OFC  2018-06-07\n",
              "\n",
              "[5 rows x 16 columns]"
            ]
          },
          "metadata": {
            "tags": []
          },
          "execution_count": 107
        }
      ]
    },
    {
      "cell_type": "code",
      "metadata": {
        "id": "hBGPlecZSQSc",
        "colab_type": "code",
        "colab": {
          "base_uri": "https://localhost:8080/",
          "height": 407
        },
        "outputId": "58fc23a5-8a84-4546-c71a-aaed22ffedb9"
      },
      "source": [
        "# Previewing our results dataset\n",
        "results_df"
      ],
      "execution_count": 108,
      "outputs": [
        {
          "output_type": "execute_result",
          "data": {
            "text/html": [
              "<div>\n",
              "<style scoped>\n",
              "    .dataframe tbody tr th:only-of-type {\n",
              "        vertical-align: middle;\n",
              "    }\n",
              "\n",
              "    .dataframe tbody tr th {\n",
              "        vertical-align: top;\n",
              "    }\n",
              "\n",
              "    .dataframe thead th {\n",
              "        text-align: right;\n",
              "    }\n",
              "</style>\n",
              "<table border=\"1\" class=\"dataframe\">\n",
              "  <thead>\n",
              "    <tr style=\"text-align: right;\">\n",
              "      <th></th>\n",
              "      <th>date</th>\n",
              "      <th>home_team</th>\n",
              "      <th>away_team</th>\n",
              "      <th>home_score</th>\n",
              "      <th>away_score</th>\n",
              "      <th>tournament</th>\n",
              "      <th>city</th>\n",
              "      <th>country</th>\n",
              "      <th>neutral</th>\n",
              "    </tr>\n",
              "  </thead>\n",
              "  <tbody>\n",
              "    <tr>\n",
              "      <th>0</th>\n",
              "      <td>1872-11-30</td>\n",
              "      <td>Scotland</td>\n",
              "      <td>England</td>\n",
              "      <td>0</td>\n",
              "      <td>0</td>\n",
              "      <td>Friendly</td>\n",
              "      <td>Glasgow</td>\n",
              "      <td>Scotland</td>\n",
              "      <td>False</td>\n",
              "    </tr>\n",
              "    <tr>\n",
              "      <th>1</th>\n",
              "      <td>1873-03-08</td>\n",
              "      <td>England</td>\n",
              "      <td>Scotland</td>\n",
              "      <td>4</td>\n",
              "      <td>2</td>\n",
              "      <td>Friendly</td>\n",
              "      <td>London</td>\n",
              "      <td>England</td>\n",
              "      <td>False</td>\n",
              "    </tr>\n",
              "    <tr>\n",
              "      <th>2</th>\n",
              "      <td>1874-03-07</td>\n",
              "      <td>Scotland</td>\n",
              "      <td>England</td>\n",
              "      <td>2</td>\n",
              "      <td>1</td>\n",
              "      <td>Friendly</td>\n",
              "      <td>Glasgow</td>\n",
              "      <td>Scotland</td>\n",
              "      <td>False</td>\n",
              "    </tr>\n",
              "    <tr>\n",
              "      <th>3</th>\n",
              "      <td>1875-03-06</td>\n",
              "      <td>England</td>\n",
              "      <td>Scotland</td>\n",
              "      <td>2</td>\n",
              "      <td>2</td>\n",
              "      <td>Friendly</td>\n",
              "      <td>London</td>\n",
              "      <td>England</td>\n",
              "      <td>False</td>\n",
              "    </tr>\n",
              "    <tr>\n",
              "      <th>4</th>\n",
              "      <td>1876-03-04</td>\n",
              "      <td>Scotland</td>\n",
              "      <td>England</td>\n",
              "      <td>3</td>\n",
              "      <td>0</td>\n",
              "      <td>Friendly</td>\n",
              "      <td>Glasgow</td>\n",
              "      <td>Scotland</td>\n",
              "      <td>False</td>\n",
              "    </tr>\n",
              "    <tr>\n",
              "      <th>...</th>\n",
              "      <td>...</td>\n",
              "      <td>...</td>\n",
              "      <td>...</td>\n",
              "      <td>...</td>\n",
              "      <td>...</td>\n",
              "      <td>...</td>\n",
              "      <td>...</td>\n",
              "      <td>...</td>\n",
              "      <td>...</td>\n",
              "    </tr>\n",
              "    <tr>\n",
              "      <th>40834</th>\n",
              "      <td>2019-07-18</td>\n",
              "      <td>American Samoa</td>\n",
              "      <td>Tahiti</td>\n",
              "      <td>8</td>\n",
              "      <td>1</td>\n",
              "      <td>Pacific Games</td>\n",
              "      <td>Apia</td>\n",
              "      <td>Samoa</td>\n",
              "      <td>True</td>\n",
              "    </tr>\n",
              "    <tr>\n",
              "      <th>40835</th>\n",
              "      <td>2019-07-18</td>\n",
              "      <td>Fiji</td>\n",
              "      <td>Solomon Islands</td>\n",
              "      <td>4</td>\n",
              "      <td>4</td>\n",
              "      <td>Pacific Games</td>\n",
              "      <td>Apia</td>\n",
              "      <td>Samoa</td>\n",
              "      <td>True</td>\n",
              "    </tr>\n",
              "    <tr>\n",
              "      <th>40836</th>\n",
              "      <td>2019-07-19</td>\n",
              "      <td>Senegal</td>\n",
              "      <td>Algeria</td>\n",
              "      <td>0</td>\n",
              "      <td>1</td>\n",
              "      <td>African Cup of Nations</td>\n",
              "      <td>Cairo</td>\n",
              "      <td>Egypt</td>\n",
              "      <td>True</td>\n",
              "    </tr>\n",
              "    <tr>\n",
              "      <th>40837</th>\n",
              "      <td>2019-07-19</td>\n",
              "      <td>Tajikistan</td>\n",
              "      <td>North Korea</td>\n",
              "      <td>0</td>\n",
              "      <td>1</td>\n",
              "      <td>Intercontinental Cup</td>\n",
              "      <td>Ahmedabad</td>\n",
              "      <td>India</td>\n",
              "      <td>True</td>\n",
              "    </tr>\n",
              "    <tr>\n",
              "      <th>40838</th>\n",
              "      <td>2019-07-20</td>\n",
              "      <td>Papua New Guinea</td>\n",
              "      <td>Fiji</td>\n",
              "      <td>1</td>\n",
              "      <td>1</td>\n",
              "      <td>Pacific Games</td>\n",
              "      <td>Apia</td>\n",
              "      <td>Samoa</td>\n",
              "      <td>True</td>\n",
              "    </tr>\n",
              "  </tbody>\n",
              "</table>\n",
              "<p>40839 rows × 9 columns</p>\n",
              "</div>"
            ],
            "text/plain": [
              "             date         home_team  ...   country  neutral\n",
              "0      1872-11-30          Scotland  ...  Scotland    False\n",
              "1      1873-03-08           England  ...   England    False\n",
              "2      1874-03-07          Scotland  ...  Scotland    False\n",
              "3      1875-03-06           England  ...   England    False\n",
              "4      1876-03-04          Scotland  ...  Scotland    False\n",
              "...           ...               ...  ...       ...      ...\n",
              "40834  2019-07-18    American Samoa  ...     Samoa     True\n",
              "40835  2019-07-18              Fiji  ...     Samoa     True\n",
              "40836  2019-07-19           Senegal  ...     Egypt     True\n",
              "40837  2019-07-19        Tajikistan  ...     India     True\n",
              "40838  2019-07-20  Papua New Guinea  ...     Samoa     True\n",
              "\n",
              "[40839 rows x 9 columns]"
            ]
          },
          "metadata": {
            "tags": []
          },
          "execution_count": 108
        }
      ]
    },
    {
      "cell_type": "code",
      "metadata": {
        "id": "ss6VC7ohSfSv",
        "colab_type": "code",
        "colab": {
          "base_uri": "https://localhost:8080/",
          "height": 508
        },
        "outputId": "0bb5ecdd-8061-4125-acf2-95099845ad0f"
      },
      "source": [
        "# Checking the columns datatypes\n",
        "print(ranking_df.dtypes)\n",
        "print(results_df.dtypes)"
      ],
      "execution_count": 109,
      "outputs": [
        {
          "output_type": "stream",
          "text": [
            "rank                         int64\n",
            "country_full                object\n",
            "country_abrv                object\n",
            "total_points               float64\n",
            "previous_points              int64\n",
            "rank_change                  int64\n",
            "cur_year_avg               float64\n",
            "cur_year_avg_weighted      float64\n",
            "last_year_avg              float64\n",
            "last_year_avg_weighted     float64\n",
            "two_year_ago_avg           float64\n",
            "two_year_ago_weighted      float64\n",
            "three_year_ago_avg         float64\n",
            "three_year_ago_weighted    float64\n",
            "confederation               object\n",
            "rank_date                   object\n",
            "dtype: object\n",
            "date          object\n",
            "home_team     object\n",
            "away_team     object\n",
            "home_score     int64\n",
            "away_score     int64\n",
            "tournament    object\n",
            "city          object\n",
            "country       object\n",
            "neutral         bool\n",
            "dtype: object\n"
          ],
          "name": "stdout"
        }
      ]
    },
    {
      "cell_type": "markdown",
      "metadata": {
        "id": "ZTU8qiZvSwNR",
        "colab_type": "text"
      },
      "source": [
        "4. External Source Validation\n",
        "\n",
        "The datasets provided, specifically the ranking one matches the ones on the the official FIFA website ([link](https://www.fifa.com/fifa-world-ranking/))\n",
        "\n"
      ]
    },
    {
      "cell_type": "markdown",
      "metadata": {
        "id": "KHJ1GTamS3dL",
        "colab_type": "text"
      },
      "source": [
        "5. Tidying the dataset"
      ]
    },
    {
      "cell_type": "code",
      "metadata": {
        "id": "AKautLMRDzIx",
        "colab_type": "code",
        "colab": {
          "base_uri": "https://localhost:8080/",
          "height": 680
        },
        "outputId": "c73b3400-ad1a-4d66-c47e-3d205e0008a6"
      },
      "source": [
        "# Checking for outliers in the ranking dataset using a boxplot\n",
        "ranking_df.boxplot(figsize=(15,10))\n",
        "plt.xticks(rotation=45)\n",
        "plt.show()"
      ],
      "execution_count": 110,
      "outputs": [
        {
          "output_type": "display_data",
          "data": {
            "image/png": "[encoded data removed]",
            "text/plain": [
              "<Figure size 1080x720 with 1 Axes>"
            ]
          },
          "metadata": {
            "tags": [],
            "needs_background": "light"
          }
        }
      ]
    },
    {
      "cell_type": "code",
      "metadata": {
        "id": "_pRE9DAeKb4F",
        "colab_type": "code",
        "colab": {
          "base_uri": "https://localhost:8080/",
          "height": 610
        },
        "outputId": "236f5835-d5e7-4041-bbd2-479f735b91d8"
      },
      "source": [
        "# Checking for outliers in the results dataset\n",
        "results_df.boxplot(figsize=(15,10))"
      ],
      "execution_count": 111,
      "outputs": [
        {
          "output_type": "execute_result",
          "data": {
            "text/plain": [
              "<matplotlib.axes._subplots.AxesSubplot at 0x7f032b7910f0>"
            ]
          },
          "metadata": {
            "tags": []
          },
          "execution_count": 111
        },
        {
          "output_type": "display_data",
          "data": {
            "image/png": "[encoded data removed]",
            "text/plain": [
              "<Figure size 1080x720 with 1 Axes>"
            ]
          },
          "metadata": {
            "tags": [],
            "needs_background": "light"
          }
        }
      ]
    },
    {
      "cell_type": "markdown",
      "metadata": {
        "id": "cqbLfR770lbu",
        "colab_type": "text"
      },
      "source": [
        "There are several outliers in the data but we'll work with them as they depict the recorded observations and are therefore viable"
      ]
    },
    {
      "cell_type": "code",
      "metadata": {
        "id": "ZIEDgCABTUDT",
        "colab_type": "code",
        "colab": {
          "base_uri": "https://localhost:8080/",
          "height": 326
        },
        "outputId": "728aad18-a2ac-47d2-d0d7-b1760336fddb"
      },
      "source": [
        "# Checking for missing values in the ranking data\n",
        "ranking_df.isnull().sum()"
      ],
      "execution_count": 112,
      "outputs": [
        {
          "output_type": "execute_result",
          "data": {
            "text/plain": [
              "rank                       0\n",
              "country_full               0\n",
              "country_abrv               0\n",
              "total_points               0\n",
              "previous_points            0\n",
              "rank_change                0\n",
              "cur_year_avg               0\n",
              "cur_year_avg_weighted      0\n",
              "last_year_avg              0\n",
              "last_year_avg_weighted     0\n",
              "two_year_ago_avg           0\n",
              "two_year_ago_weighted      0\n",
              "three_year_ago_avg         0\n",
              "three_year_ago_weighted    0\n",
              "confederation              0\n",
              "rank_date                  0\n",
              "dtype: int64"
            ]
          },
          "metadata": {
            "tags": []
          },
          "execution_count": 112
        }
      ]
    },
    {
      "cell_type": "code",
      "metadata": {
        "id": "hbrrW_vbJa6o",
        "colab_type": "code",
        "colab": {
          "base_uri": "https://localhost:8080/",
          "height": 199
        },
        "outputId": "b039f305-d3b1-4203-e1cf-71cd8e8555d5"
      },
      "source": [
        "# Checking for missing values in the results data\n",
        "results_df.isnull().sum()"
      ],
      "execution_count": 113,
      "outputs": [
        {
          "output_type": "execute_result",
          "data": {
            "text/plain": [
              "date          0\n",
              "home_team     0\n",
              "away_team     0\n",
              "home_score    0\n",
              "away_score    0\n",
              "tournament    0\n",
              "city          0\n",
              "country       0\n",
              "neutral       0\n",
              "dtype: int64"
            ]
          },
          "metadata": {
            "tags": []
          },
          "execution_count": 113
        }
      ]
    },
    {
      "cell_type": "markdown",
      "metadata": {
        "id": "ufOAdOqJMxWu",
        "colab_type": "text"
      },
      "source": [
        "There are no missing values in the original dataset"
      ]
    },
    {
      "cell_type": "code",
      "metadata": {
        "id": "Z4u8QW5CTeCK",
        "colab_type": "code",
        "colab": {
          "base_uri": "https://localhost:8080/",
          "height": 54
        },
        "outputId": "a835f715-989b-4f8b-a017-19027d2f45ef"
      },
      "source": [
        "# Splitting date column into year and month for the results dataset\n",
        "print(results_df['date'].unique())\n",
        "results_df['date'] = results_df['date'].apply(lambda x: x.replace('/', '-'))\n",
        "results_df['date'] = pd.to_datetime(results_df['date'])\n",
        "results_df['year'] = results_df['date'].dt.year\n",
        "results_df['month'] = results_df['date'].dt.month"
      ],
      "execution_count": 114,
      "outputs": [
        {
          "output_type": "stream",
          "text": [
            "['1872-11-30' '1873-03-08' '1874-03-07' ... '2019-07-18' '2019-07-19'\n",
            " '2019-07-20']\n"
          ],
          "name": "stdout"
        }
      ]
    },
    {
      "cell_type": "code",
      "metadata": {
        "id": "wiESfllZZvkb",
        "colab_type": "code",
        "colab": {}
      },
      "source": [
        "# Splitting date column into year and month for the ranking dataset\n",
        "ranking_df['rank_date'] = ranking_df['rank_date'].apply(lambda x: x.replace('/', '-'))\n",
        "ranking_df['rank_date'] = pd.to_datetime(ranking_df['rank_date'])\n",
        "ranking_df['year'] = ranking_df['rank_date'].dt.year\n",
        "ranking_df['month'] = ranking_df['rank_date'].dt.month"
      ],
      "execution_count": 115,
      "outputs": []
    },
    {
      "cell_type": "code",
      "metadata": {
        "id": "GahWdiQlpcNR",
        "colab_type": "code",
        "colab": {
          "base_uri": "https://localhost:8080/",
          "height": 245
        },
        "outputId": "856d9fc2-9a56-4aa3-b6a1-62077e09366e"
      },
      "source": [
        "# Merging the two datasets to get the home team and ranking data\n",
        "home_ranking_df = pd.merge(ranking_df, results_df, how = 'inner', left_on = ['year', 'month','country_full'], right_on = ['year', 'month','home_team'])\n",
        "home_ranking_df.head(3)"
      ],
      "execution_count": 116,
      "outputs": [
        {
          "output_type": "execute_result",
          "data": {
            "text/html": [
              "<div>\n",
              "<style scoped>\n",
              "    .dataframe tbody tr th:only-of-type {\n",
              "        vertical-align: middle;\n",
              "    }\n",
              "\n",
              "    .dataframe tbody tr th {\n",
              "        vertical-align: top;\n",
              "    }\n",
              "\n",
              "    .dataframe thead th {\n",
              "        text-align: right;\n",
              "    }\n",
              "</style>\n",
              "<table border=\"1\" class=\"dataframe\">\n",
              "  <thead>\n",
              "    <tr style=\"text-align: right;\">\n",
              "      <th></th>\n",
              "      <th>rank</th>\n",
              "      <th>country_full</th>\n",
              "      <th>country_abrv</th>\n",
              "      <th>total_points</th>\n",
              "      <th>previous_points</th>\n",
              "      <th>rank_change</th>\n",
              "      <th>cur_year_avg</th>\n",
              "      <th>cur_year_avg_weighted</th>\n",
              "      <th>last_year_avg</th>\n",
              "      <th>last_year_avg_weighted</th>\n",
              "      <th>two_year_ago_avg</th>\n",
              "      <th>two_year_ago_weighted</th>\n",
              "      <th>three_year_ago_avg</th>\n",
              "      <th>three_year_ago_weighted</th>\n",
              "      <th>confederation</th>\n",
              "      <th>rank_date</th>\n",
              "      <th>year</th>\n",
              "      <th>month</th>\n",
              "      <th>date</th>\n",
              "      <th>home_team</th>\n",
              "      <th>away_team</th>\n",
              "      <th>home_score</th>\n",
              "      <th>away_score</th>\n",
              "      <th>tournament</th>\n",
              "      <th>city</th>\n",
              "      <th>country</th>\n",
              "      <th>neutral</th>\n",
              "    </tr>\n",
              "  </thead>\n",
              "  <tbody>\n",
              "    <tr>\n",
              "      <th>0</th>\n",
              "      <td>4</td>\n",
              "      <td>Sweden</td>\n",
              "      <td>SWE</td>\n",
              "      <td>0.0</td>\n",
              "      <td>55</td>\n",
              "      <td>0</td>\n",
              "      <td>0.0</td>\n",
              "      <td>0.0</td>\n",
              "      <td>0.0</td>\n",
              "      <td>0.0</td>\n",
              "      <td>0.0</td>\n",
              "      <td>0.0</td>\n",
              "      <td>0.0</td>\n",
              "      <td>0.0</td>\n",
              "      <td>UEFA</td>\n",
              "      <td>1993-08-08</td>\n",
              "      <td>1993</td>\n",
              "      <td>8</td>\n",
              "      <td>1993-08-11</td>\n",
              "      <td>Sweden</td>\n",
              "      <td>Switzerland</td>\n",
              "      <td>1</td>\n",
              "      <td>2</td>\n",
              "      <td>Friendly</td>\n",
              "      <td>Borås</td>\n",
              "      <td>Sweden</td>\n",
              "      <td>False</td>\n",
              "    </tr>\n",
              "    <tr>\n",
              "      <th>1</th>\n",
              "      <td>4</td>\n",
              "      <td>Sweden</td>\n",
              "      <td>SWE</td>\n",
              "      <td>0.0</td>\n",
              "      <td>55</td>\n",
              "      <td>0</td>\n",
              "      <td>0.0</td>\n",
              "      <td>0.0</td>\n",
              "      <td>0.0</td>\n",
              "      <td>0.0</td>\n",
              "      <td>0.0</td>\n",
              "      <td>0.0</td>\n",
              "      <td>0.0</td>\n",
              "      <td>0.0</td>\n",
              "      <td>UEFA</td>\n",
              "      <td>1993-08-08</td>\n",
              "      <td>1993</td>\n",
              "      <td>8</td>\n",
              "      <td>1993-08-22</td>\n",
              "      <td>Sweden</td>\n",
              "      <td>France</td>\n",
              "      <td>1</td>\n",
              "      <td>1</td>\n",
              "      <td>FIFA World Cup qualification</td>\n",
              "      <td>Solna</td>\n",
              "      <td>Sweden</td>\n",
              "      <td>False</td>\n",
              "    </tr>\n",
              "    <tr>\n",
              "      <th>2</th>\n",
              "      <td>5</td>\n",
              "      <td>Argentina</td>\n",
              "      <td>ARG</td>\n",
              "      <td>0.0</td>\n",
              "      <td>51</td>\n",
              "      <td>5</td>\n",
              "      <td>0.0</td>\n",
              "      <td>0.0</td>\n",
              "      <td>0.0</td>\n",
              "      <td>0.0</td>\n",
              "      <td>0.0</td>\n",
              "      <td>0.0</td>\n",
              "      <td>0.0</td>\n",
              "      <td>0.0</td>\n",
              "      <td>CONMEBOL</td>\n",
              "      <td>1993-08-08</td>\n",
              "      <td>1993</td>\n",
              "      <td>8</td>\n",
              "      <td>1993-08-22</td>\n",
              "      <td>Argentina</td>\n",
              "      <td>Peru</td>\n",
              "      <td>2</td>\n",
              "      <td>1</td>\n",
              "      <td>FIFA World Cup qualification</td>\n",
              "      <td>Buenos Aires</td>\n",
              "      <td>Argentina</td>\n",
              "      <td>False</td>\n",
              "    </tr>\n",
              "  </tbody>\n",
              "</table>\n",
              "</div>"
            ],
            "text/plain": [
              "   rank country_full country_abrv  ...          city    country  neutral\n",
              "0     4       Sweden          SWE  ...         Borås     Sweden    False\n",
              "1     4       Sweden          SWE  ...         Solna     Sweden    False\n",
              "2     5    Argentina          ARG  ...  Buenos Aires  Argentina    False\n",
              "\n",
              "[3 rows x 27 columns]"
            ]
          },
          "metadata": {
            "tags": []
          },
          "execution_count": 116
        }
      ]
    },
    {
      "cell_type": "code",
      "metadata": {
        "id": "9t0qpGubtnFg",
        "colab_type": "code",
        "colab": {
          "base_uri": "https://localhost:8080/",
          "height": 245
        },
        "outputId": "0ec67896-96f6-462c-b332-7e36e8f3740c"
      },
      "source": [
        "# Merging to get the away ranking data\n",
        "away_ranking_df = pd.merge(ranking_df, results_df, how = 'inner', left_on = ['year', 'month','country_full'], right_on = ['year', 'month','away_team'])\n",
        "away_ranking_df.head(3)"
      ],
      "execution_count": 117,
      "outputs": [
        {
          "output_type": "execute_result",
          "data": {
            "text/html": [
              "<div>\n",
              "<style scoped>\n",
              "    .dataframe tbody tr th:only-of-type {\n",
              "        vertical-align: middle;\n",
              "    }\n",
              "\n",
              "    .dataframe tbody tr th {\n",
              "        vertical-align: top;\n",
              "    }\n",
              "\n",
              "    .dataframe thead th {\n",
              "        text-align: right;\n",
              "    }\n",
              "</style>\n",
              "<table border=\"1\" class=\"dataframe\">\n",
              "  <thead>\n",
              "    <tr style=\"text-align: right;\">\n",
              "      <th></th>\n",
              "      <th>rank</th>\n",
              "      <th>country_full</th>\n",
              "      <th>country_abrv</th>\n",
              "      <th>total_points</th>\n",
              "      <th>previous_points</th>\n",
              "      <th>rank_change</th>\n",
              "      <th>cur_year_avg</th>\n",
              "      <th>cur_year_avg_weighted</th>\n",
              "      <th>last_year_avg</th>\n",
              "      <th>last_year_avg_weighted</th>\n",
              "      <th>two_year_ago_avg</th>\n",
              "      <th>two_year_ago_weighted</th>\n",
              "      <th>three_year_ago_avg</th>\n",
              "      <th>three_year_ago_weighted</th>\n",
              "      <th>confederation</th>\n",
              "      <th>rank_date</th>\n",
              "      <th>year</th>\n",
              "      <th>month</th>\n",
              "      <th>date</th>\n",
              "      <th>home_team</th>\n",
              "      <th>away_team</th>\n",
              "      <th>home_score</th>\n",
              "      <th>away_score</th>\n",
              "      <th>tournament</th>\n",
              "      <th>city</th>\n",
              "      <th>country</th>\n",
              "      <th>neutral</th>\n",
              "    </tr>\n",
              "  </thead>\n",
              "  <tbody>\n",
              "    <tr>\n",
              "      <th>0</th>\n",
              "      <td>3</td>\n",
              "      <td>Switzerland</td>\n",
              "      <td>SUI</td>\n",
              "      <td>0.0</td>\n",
              "      <td>50</td>\n",
              "      <td>9</td>\n",
              "      <td>0.0</td>\n",
              "      <td>0.0</td>\n",
              "      <td>0.0</td>\n",
              "      <td>0.0</td>\n",
              "      <td>0.0</td>\n",
              "      <td>0.0</td>\n",
              "      <td>0.0</td>\n",
              "      <td>0.0</td>\n",
              "      <td>UEFA</td>\n",
              "      <td>1993-08-08</td>\n",
              "      <td>1993</td>\n",
              "      <td>8</td>\n",
              "      <td>1993-08-11</td>\n",
              "      <td>Sweden</td>\n",
              "      <td>Switzerland</td>\n",
              "      <td>1</td>\n",
              "      <td>2</td>\n",
              "      <td>Friendly</td>\n",
              "      <td>Borås</td>\n",
              "      <td>Sweden</td>\n",
              "      <td>False</td>\n",
              "    </tr>\n",
              "    <tr>\n",
              "      <th>1</th>\n",
              "      <td>5</td>\n",
              "      <td>Argentina</td>\n",
              "      <td>ARG</td>\n",
              "      <td>0.0</td>\n",
              "      <td>51</td>\n",
              "      <td>5</td>\n",
              "      <td>0.0</td>\n",
              "      <td>0.0</td>\n",
              "      <td>0.0</td>\n",
              "      <td>0.0</td>\n",
              "      <td>0.0</td>\n",
              "      <td>0.0</td>\n",
              "      <td>0.0</td>\n",
              "      <td>0.0</td>\n",
              "      <td>CONMEBOL</td>\n",
              "      <td>1993-08-08</td>\n",
              "      <td>1993</td>\n",
              "      <td>8</td>\n",
              "      <td>1993-08-01</td>\n",
              "      <td>Peru</td>\n",
              "      <td>Argentina</td>\n",
              "      <td>0</td>\n",
              "      <td>1</td>\n",
              "      <td>FIFA World Cup qualification</td>\n",
              "      <td>Lima</td>\n",
              "      <td>Peru</td>\n",
              "      <td>False</td>\n",
              "    </tr>\n",
              "    <tr>\n",
              "      <th>2</th>\n",
              "      <td>5</td>\n",
              "      <td>Argentina</td>\n",
              "      <td>ARG</td>\n",
              "      <td>0.0</td>\n",
              "      <td>51</td>\n",
              "      <td>5</td>\n",
              "      <td>0.0</td>\n",
              "      <td>0.0</td>\n",
              "      <td>0.0</td>\n",
              "      <td>0.0</td>\n",
              "      <td>0.0</td>\n",
              "      <td>0.0</td>\n",
              "      <td>0.0</td>\n",
              "      <td>0.0</td>\n",
              "      <td>CONMEBOL</td>\n",
              "      <td>1993-08-08</td>\n",
              "      <td>1993</td>\n",
              "      <td>8</td>\n",
              "      <td>1993-08-08</td>\n",
              "      <td>Paraguay</td>\n",
              "      <td>Argentina</td>\n",
              "      <td>1</td>\n",
              "      <td>3</td>\n",
              "      <td>FIFA World Cup qualification</td>\n",
              "      <td>Asunción</td>\n",
              "      <td>Paraguay</td>\n",
              "      <td>False</td>\n",
              "    </tr>\n",
              "  </tbody>\n",
              "</table>\n",
              "</div>"
            ],
            "text/plain": [
              "   rank country_full country_abrv  ...      city   country  neutral\n",
              "0     3  Switzerland          SUI  ...     Borås    Sweden    False\n",
              "1     5    Argentina          ARG  ...      Lima      Peru    False\n",
              "2     5    Argentina          ARG  ...  Asunción  Paraguay    False\n",
              "\n",
              "[3 rows x 27 columns]"
            ]
          },
          "metadata": {
            "tags": []
          },
          "execution_count": 117
        }
      ]
    },
    {
      "cell_type": "code",
      "metadata": {
        "id": "nXRrzQjkhP9k",
        "colab_type": "code",
        "colab": {}
      },
      "source": [
        "# Picking the columns relevant to our analysis\n",
        "home_ranking = home_ranking_df[['rank','rank_change','country','home_team','away_team','home_score','away_score','tournament','neutral','month','year','total_points','previous_points']] \n",
        "# Renaming the rank to specify it as home rank\n",
        "home_ranking.rename(columns={'rank':'home_rank'}, inplace=True)"
      ],
      "execution_count": null,
      "outputs": []
    },
    {
      "cell_type": "code",
      "metadata": {
        "id": "t7AR4aiAzWgD",
        "colab_type": "code",
        "colab": {}
      },
      "source": [
        "# Picking the relevant columns in away dataset\n",
        "away_ranking = away_ranking_df[['rank','away_team','month','year']]\n",
        "\n",
        "# Renaming the rank to specify it as home rank\n",
        "away_ranking.rename(columns={'rank':'away_rank'}, inplace=True)"
      ],
      "execution_count": null,
      "outputs": []
    },
    {
      "cell_type": "code",
      "metadata": {
        "id": "1QIo1CVAmLiX",
        "colab_type": "code",
        "colab": {
          "base_uri": "https://localhost:8080/",
          "height": 356
        },
        "outputId": "e23e16b2-476b-409f-e56d-2a18bd061425"
      },
      "source": [
        "# Final data with the home rank and away rank columns\n",
        "df = home_away = pd.merge(home_ranking, away_ranking, how = 'inner', left_on = ['year', 'month','away_team'], right_on = ['year', 'month','away_team'])\n",
        "df.head()"
      ],
      "execution_count": 120,
      "outputs": [
        {
          "output_type": "execute_result",
          "data": {
            "text/html": [
              "<div>\n",
              "<style scoped>\n",
              "    .dataframe tbody tr th:only-of-type {\n",
              "        vertical-align: middle;\n",
              "    }\n",
              "\n",
              "    .dataframe tbody tr th {\n",
              "        vertical-align: top;\n",
              "    }\n",
              "\n",
              "    .dataframe thead th {\n",
              "        text-align: right;\n",
              "    }\n",
              "</style>\n",
              "<table border=\"1\" class=\"dataframe\">\n",
              "  <thead>\n",
              "    <tr style=\"text-align: right;\">\n",
              "      <th></th>\n",
              "      <th>home_rank</th>\n",
              "      <th>rank_change</th>\n",
              "      <th>country</th>\n",
              "      <th>home_team</th>\n",
              "      <th>away_team</th>\n",
              "      <th>home_score</th>\n",
              "      <th>away_score</th>\n",
              "      <th>tournament</th>\n",
              "      <th>neutral</th>\n",
              "      <th>month</th>\n",
              "      <th>year</th>\n",
              "      <th>total_points</th>\n",
              "      <th>previous_points</th>\n",
              "      <th>away_rank</th>\n",
              "    </tr>\n",
              "  </thead>\n",
              "  <tbody>\n",
              "    <tr>\n",
              "      <th>0</th>\n",
              "      <td>4</td>\n",
              "      <td>0</td>\n",
              "      <td>Sweden</td>\n",
              "      <td>Sweden</td>\n",
              "      <td>Switzerland</td>\n",
              "      <td>1</td>\n",
              "      <td>2</td>\n",
              "      <td>Friendly</td>\n",
              "      <td>False</td>\n",
              "      <td>8</td>\n",
              "      <td>1993</td>\n",
              "      <td>0.0</td>\n",
              "      <td>55</td>\n",
              "      <td>3</td>\n",
              "    </tr>\n",
              "    <tr>\n",
              "      <th>1</th>\n",
              "      <td>4</td>\n",
              "      <td>0</td>\n",
              "      <td>Sweden</td>\n",
              "      <td>Sweden</td>\n",
              "      <td>France</td>\n",
              "      <td>1</td>\n",
              "      <td>1</td>\n",
              "      <td>FIFA World Cup qualification</td>\n",
              "      <td>False</td>\n",
              "      <td>8</td>\n",
              "      <td>1993</td>\n",
              "      <td>0.0</td>\n",
              "      <td>55</td>\n",
              "      <td>12</td>\n",
              "    </tr>\n",
              "    <tr>\n",
              "      <th>2</th>\n",
              "      <td>5</td>\n",
              "      <td>5</td>\n",
              "      <td>Argentina</td>\n",
              "      <td>Argentina</td>\n",
              "      <td>Peru</td>\n",
              "      <td>2</td>\n",
              "      <td>1</td>\n",
              "      <td>FIFA World Cup qualification</td>\n",
              "      <td>False</td>\n",
              "      <td>8</td>\n",
              "      <td>1993</td>\n",
              "      <td>0.0</td>\n",
              "      <td>51</td>\n",
              "      <td>70</td>\n",
              "    </tr>\n",
              "    <tr>\n",
              "      <th>3</th>\n",
              "      <td>5</td>\n",
              "      <td>5</td>\n",
              "      <td>Argentina</td>\n",
              "      <td>Argentina</td>\n",
              "      <td>Peru</td>\n",
              "      <td>2</td>\n",
              "      <td>1</td>\n",
              "      <td>FIFA World Cup qualification</td>\n",
              "      <td>False</td>\n",
              "      <td>8</td>\n",
              "      <td>1993</td>\n",
              "      <td>0.0</td>\n",
              "      <td>51</td>\n",
              "      <td>70</td>\n",
              "    </tr>\n",
              "    <tr>\n",
              "      <th>4</th>\n",
              "      <td>5</td>\n",
              "      <td>5</td>\n",
              "      <td>Argentina</td>\n",
              "      <td>Argentina</td>\n",
              "      <td>Peru</td>\n",
              "      <td>2</td>\n",
              "      <td>1</td>\n",
              "      <td>FIFA World Cup qualification</td>\n",
              "      <td>False</td>\n",
              "      <td>8</td>\n",
              "      <td>1993</td>\n",
              "      <td>0.0</td>\n",
              "      <td>51</td>\n",
              "      <td>70</td>\n",
              "    </tr>\n",
              "  </tbody>\n",
              "</table>\n",
              "</div>"
            ],
            "text/plain": [
              "   home_rank  rank_change    country  ... total_points previous_points  away_rank\n",
              "0          4            0     Sweden  ...          0.0              55          3\n",
              "1          4            0     Sweden  ...          0.0              55         12\n",
              "2          5            5  Argentina  ...          0.0              51         70\n",
              "3          5            5  Argentina  ...          0.0              51         70\n",
              "4          5            5  Argentina  ...          0.0              51         70\n",
              "\n",
              "[5 rows x 14 columns]"
            ]
          },
          "metadata": {
            "tags": []
          },
          "execution_count": 120
        }
      ]
    },
    {
      "cell_type": "code",
      "metadata": {
        "id": "xC66aimMLqSx",
        "colab_type": "code",
        "colab": {
          "base_uri": "https://localhost:8080/",
          "height": 35
        },
        "outputId": "b601a3ea-8e61-455e-9476-4036033b939f"
      },
      "source": [
        "# Check for missing values after the merge\n",
        "df.isnull().any().sum()\n",
        "\n",
        "# No missing values"
      ],
      "execution_count": 121,
      "outputs": [
        {
          "output_type": "execute_result",
          "data": {
            "text/plain": [
              "0"
            ]
          },
          "metadata": {
            "tags": []
          },
          "execution_count": 121
        }
      ]
    },
    {
      "cell_type": "markdown",
      "metadata": {
        "id": "9ARsFB1RTjVa",
        "colab_type": "text"
      },
      "source": [
        "6. Exploratory Data Analysis"
      ]
    },
    {
      "cell_type": "code",
      "metadata": {
        "id": "FFXOt-WvMddL",
        "colab_type": "code",
        "colab": {
          "base_uri": "https://localhost:8080/",
          "height": 35
        },
        "outputId": "512ac70d-e34a-4a6e-ddb9-e99fb1f5dcae"
      },
      "source": [
        "# Determining the number of records in the merged data\n",
        "df.shape"
      ],
      "execution_count": 122,
      "outputs": [
        {
          "output_type": "execute_result",
          "data": {
            "text/plain": [
              "(28518, 14)"
            ]
          },
          "metadata": {
            "tags": []
          },
          "execution_count": 122
        }
      ]
    },
    {
      "cell_type": "code",
      "metadata": {
        "id": "j83nRME7TqWZ",
        "colab_type": "code",
        "colab": {
          "base_uri": "https://localhost:8080/",
          "height": 288
        },
        "outputId": "ef7d1731-19c3-4266-b0fb-ba390bfc198e"
      },
      "source": [
        "# Plotting univariate summaries\n",
        "df.describe()"
      ],
      "execution_count": 123,
      "outputs": [
        {
          "output_type": "execute_result",
          "data": {
            "text/html": [
              "<div>\n",
              "<style scoped>\n",
              "    .dataframe tbody tr th:only-of-type {\n",
              "        vertical-align: middle;\n",
              "    }\n",
              "\n",
              "    .dataframe tbody tr th {\n",
              "        vertical-align: top;\n",
              "    }\n",
              "\n",
              "    .dataframe thead th {\n",
              "        text-align: right;\n",
              "    }\n",
              "</style>\n",
              "<table border=\"1\" class=\"dataframe\">\n",
              "  <thead>\n",
              "    <tr style=\"text-align: right;\">\n",
              "      <th></th>\n",
              "      <th>home_rank</th>\n",
              "      <th>rank_change</th>\n",
              "      <th>home_score</th>\n",
              "      <th>away_score</th>\n",
              "      <th>month</th>\n",
              "      <th>year</th>\n",
              "      <th>total_points</th>\n",
              "      <th>previous_points</th>\n",
              "      <th>away_rank</th>\n",
              "    </tr>\n",
              "  </thead>\n",
              "  <tbody>\n",
              "    <tr>\n",
              "      <th>count</th>\n",
              "      <td>28518.000000</td>\n",
              "      <td>28518.000000</td>\n",
              "      <td>28518.000000</td>\n",
              "      <td>28518.000000</td>\n",
              "      <td>28518.000000</td>\n",
              "      <td>28518.000000</td>\n",
              "      <td>28518.000000</td>\n",
              "      <td>28518.000000</td>\n",
              "      <td>28518.000000</td>\n",
              "    </tr>\n",
              "    <tr>\n",
              "      <th>mean</th>\n",
              "      <td>78.456449</td>\n",
              "      <td>1.104530</td>\n",
              "      <td>1.595589</td>\n",
              "      <td>1.100989</td>\n",
              "      <td>6.723438</td>\n",
              "      <td>2006.196683</td>\n",
              "      <td>157.305015</td>\n",
              "      <td>418.343713</td>\n",
              "      <td>81.480574</td>\n",
              "    </tr>\n",
              "    <tr>\n",
              "      <th>std</th>\n",
              "      <td>51.079457</td>\n",
              "      <td>7.034801</td>\n",
              "      <td>1.634277</td>\n",
              "      <td>1.278697</td>\n",
              "      <td>3.361838</td>\n",
              "      <td>6.842606</td>\n",
              "      <td>308.226022</td>\n",
              "      <td>315.813190</td>\n",
              "      <td>52.538276</td>\n",
              "    </tr>\n",
              "    <tr>\n",
              "      <th>min</th>\n",
              "      <td>1.000000</td>\n",
              "      <td>-62.000000</td>\n",
              "      <td>0.000000</td>\n",
              "      <td>0.000000</td>\n",
              "      <td>1.000000</td>\n",
              "      <td>1993.000000</td>\n",
              "      <td>0.000000</td>\n",
              "      <td>0.000000</td>\n",
              "      <td>1.000000</td>\n",
              "    </tr>\n",
              "    <tr>\n",
              "      <th>25%</th>\n",
              "      <td>35.000000</td>\n",
              "      <td>-2.000000</td>\n",
              "      <td>0.000000</td>\n",
              "      <td>0.000000</td>\n",
              "      <td>4.000000</td>\n",
              "      <td>2000.000000</td>\n",
              "      <td>0.000000</td>\n",
              "      <td>150.000000</td>\n",
              "      <td>38.000000</td>\n",
              "    </tr>\n",
              "    <tr>\n",
              "      <th>50%</th>\n",
              "      <td>74.000000</td>\n",
              "      <td>0.000000</td>\n",
              "      <td>1.000000</td>\n",
              "      <td>1.000000</td>\n",
              "      <td>6.000000</td>\n",
              "      <td>2006.000000</td>\n",
              "      <td>0.000000</td>\n",
              "      <td>399.000000</td>\n",
              "      <td>76.000000</td>\n",
              "    </tr>\n",
              "    <tr>\n",
              "      <th>75%</th>\n",
              "      <td>114.000000</td>\n",
              "      <td>3.000000</td>\n",
              "      <td>2.000000</td>\n",
              "      <td>2.000000</td>\n",
              "      <td>10.000000</td>\n",
              "      <td>2012.000000</td>\n",
              "      <td>194.557500</td>\n",
              "      <td>595.000000</td>\n",
              "      <td>119.000000</td>\n",
              "    </tr>\n",
              "    <tr>\n",
              "      <th>max</th>\n",
              "      <td>209.000000</td>\n",
              "      <td>73.000000</td>\n",
              "      <td>31.000000</td>\n",
              "      <td>15.000000</td>\n",
              "      <td>12.000000</td>\n",
              "      <td>2018.000000</td>\n",
              "      <td>1770.060000</td>\n",
              "      <td>1887.000000</td>\n",
              "      <td>209.000000</td>\n",
              "    </tr>\n",
              "  </tbody>\n",
              "</table>\n",
              "</div>"
            ],
            "text/plain": [
              "          home_rank   rank_change  ...  previous_points     away_rank\n",
              "count  28518.000000  28518.000000  ...     28518.000000  28518.000000\n",
              "mean      78.456449      1.104530  ...       418.343713     81.480574\n",
              "std       51.079457      7.034801  ...       315.813190     52.538276\n",
              "min        1.000000    -62.000000  ...         0.000000      1.000000\n",
              "25%       35.000000     -2.000000  ...       150.000000     38.000000\n",
              "50%       74.000000      0.000000  ...       399.000000     76.000000\n",
              "75%      114.000000      3.000000  ...       595.000000    119.000000\n",
              "max      209.000000     73.000000  ...      1887.000000    209.000000\n",
              "\n",
              "[8 rows x 9 columns]"
            ]
          },
          "metadata": {
            "tags": []
          },
          "execution_count": 123
        }
      ]
    },
    {
      "cell_type": "code",
      "metadata": {
        "id": "lc47zSb5Tyhe",
        "colab_type": "code",
        "colab": {
          "base_uri": "https://localhost:8080/",
          "height": 348
        },
        "outputId": "bfdf4232-7de0-458d-e8c1-19f5b02e0400"
      },
      "source": [
        "# Checking for independence between features using a correlation matrix\n",
        "df.corr()"
      ],
      "execution_count": 124,
      "outputs": [
        {
          "output_type": "execute_result",
          "data": {
            "text/html": [
              "<div>\n",
              "<style scoped>\n",
              "    .dataframe tbody tr th:only-of-type {\n",
              "        vertical-align: middle;\n",
              "    }\n",
              "\n",
              "    .dataframe tbody tr th {\n",
              "        vertical-align: top;\n",
              "    }\n",
              "\n",
              "    .dataframe thead th {\n",
              "        text-align: right;\n",
              "    }\n",
              "</style>\n",
              "<table border=\"1\" class=\"dataframe\">\n",
              "  <thead>\n",
              "    <tr style=\"text-align: right;\">\n",
              "      <th></th>\n",
              "      <th>home_rank</th>\n",
              "      <th>rank_change</th>\n",
              "      <th>home_score</th>\n",
              "      <th>away_score</th>\n",
              "      <th>neutral</th>\n",
              "      <th>month</th>\n",
              "      <th>year</th>\n",
              "      <th>total_points</th>\n",
              "      <th>previous_points</th>\n",
              "      <th>away_rank</th>\n",
              "    </tr>\n",
              "  </thead>\n",
              "  <tbody>\n",
              "    <tr>\n",
              "      <th>home_rank</th>\n",
              "      <td>1.000000</td>\n",
              "      <td>-0.003985</td>\n",
              "      <td>-0.115309</td>\n",
              "      <td>0.221202</td>\n",
              "      <td>0.019133</td>\n",
              "      <td>0.068282</td>\n",
              "      <td>0.092840</td>\n",
              "      <td>-0.299011</td>\n",
              "      <td>-0.653222</td>\n",
              "      <td>0.514813</td>\n",
              "    </tr>\n",
              "    <tr>\n",
              "      <th>rank_change</th>\n",
              "      <td>-0.003985</td>\n",
              "      <td>1.000000</td>\n",
              "      <td>0.078472</td>\n",
              "      <td>-0.074240</td>\n",
              "      <td>0.013530</td>\n",
              "      <td>0.053138</td>\n",
              "      <td>-0.075539</td>\n",
              "      <td>-0.061237</td>\n",
              "      <td>-0.118316</td>\n",
              "      <td>0.040974</td>\n",
              "    </tr>\n",
              "    <tr>\n",
              "      <th>home_score</th>\n",
              "      <td>-0.115309</td>\n",
              "      <td>0.078472</td>\n",
              "      <td>1.000000</td>\n",
              "      <td>-0.160963</td>\n",
              "      <td>-0.051272</td>\n",
              "      <td>0.019208</td>\n",
              "      <td>-0.052746</td>\n",
              "      <td>0.012116</td>\n",
              "      <td>0.069722</td>\n",
              "      <td>0.307034</td>\n",
              "    </tr>\n",
              "    <tr>\n",
              "      <th>away_score</th>\n",
              "      <td>0.221202</td>\n",
              "      <td>-0.074240</td>\n",
              "      <td>-0.160963</td>\n",
              "      <td>1.000000</td>\n",
              "      <td>0.128605</td>\n",
              "      <td>0.019761</td>\n",
              "      <td>-0.012682</td>\n",
              "      <td>-0.062368</td>\n",
              "      <td>-0.130786</td>\n",
              "      <td>-0.151864</td>\n",
              "    </tr>\n",
              "    <tr>\n",
              "      <th>neutral</th>\n",
              "      <td>0.019133</td>\n",
              "      <td>0.013530</td>\n",
              "      <td>-0.051272</td>\n",
              "      <td>0.128605</td>\n",
              "      <td>1.000000</td>\n",
              "      <td>-0.087394</td>\n",
              "      <td>0.038912</td>\n",
              "      <td>0.048939</td>\n",
              "      <td>0.016315</td>\n",
              "      <td>0.032648</td>\n",
              "    </tr>\n",
              "    <tr>\n",
              "      <th>month</th>\n",
              "      <td>0.068282</td>\n",
              "      <td>0.053138</td>\n",
              "      <td>0.019208</td>\n",
              "      <td>0.019761</td>\n",
              "      <td>-0.087394</td>\n",
              "      <td>1.000000</td>\n",
              "      <td>-0.007457</td>\n",
              "      <td>0.010915</td>\n",
              "      <td>-0.069358</td>\n",
              "      <td>0.068660</td>\n",
              "    </tr>\n",
              "    <tr>\n",
              "      <th>year</th>\n",
              "      <td>0.092840</td>\n",
              "      <td>-0.075539</td>\n",
              "      <td>-0.052746</td>\n",
              "      <td>-0.012682</td>\n",
              "      <td>0.038912</td>\n",
              "      <td>-0.007457</td>\n",
              "      <td>1.000000</td>\n",
              "      <td>0.624476</td>\n",
              "      <td>0.407829</td>\n",
              "      <td>0.092347</td>\n",
              "    </tr>\n",
              "    <tr>\n",
              "      <th>total_points</th>\n",
              "      <td>-0.299011</td>\n",
              "      <td>-0.061237</td>\n",
              "      <td>0.012116</td>\n",
              "      <td>-0.062368</td>\n",
              "      <td>0.048939</td>\n",
              "      <td>0.010915</td>\n",
              "      <td>0.624476</td>\n",
              "      <td>1.000000</td>\n",
              "      <td>0.546566</td>\n",
              "      <td>-0.146631</td>\n",
              "    </tr>\n",
              "    <tr>\n",
              "      <th>previous_points</th>\n",
              "      <td>-0.653222</td>\n",
              "      <td>-0.118316</td>\n",
              "      <td>0.069722</td>\n",
              "      <td>-0.130786</td>\n",
              "      <td>0.016315</td>\n",
              "      <td>-0.069358</td>\n",
              "      <td>0.407829</td>\n",
              "      <td>0.546566</td>\n",
              "      <td>1.000000</td>\n",
              "      <td>-0.310698</td>\n",
              "    </tr>\n",
              "    <tr>\n",
              "      <th>away_rank</th>\n",
              "      <td>0.514813</td>\n",
              "      <td>0.040974</td>\n",
              "      <td>0.307034</td>\n",
              "      <td>-0.151864</td>\n",
              "      <td>0.032648</td>\n",
              "      <td>0.068660</td>\n",
              "      <td>0.092347</td>\n",
              "      <td>-0.146631</td>\n",
              "      <td>-0.310698</td>\n",
              "      <td>1.000000</td>\n",
              "    </tr>\n",
              "  </tbody>\n",
              "</table>\n",
              "</div>"
            ],
            "text/plain": [
              "                 home_rank  rank_change  ...  previous_points  away_rank\n",
              "home_rank         1.000000    -0.003985  ...        -0.653222   0.514813\n",
              "rank_change      -0.003985     1.000000  ...        -0.118316   0.040974\n",
              "home_score       -0.115309     0.078472  ...         0.069722   0.307034\n",
              "away_score        0.221202    -0.074240  ...        -0.130786  -0.151864\n",
              "neutral           0.019133     0.013530  ...         0.016315   0.032648\n",
              "month             0.068282     0.053138  ...        -0.069358   0.068660\n",
              "year              0.092840    -0.075539  ...         0.407829   0.092347\n",
              "total_points     -0.299011    -0.061237  ...         0.546566  -0.146631\n",
              "previous_points  -0.653222    -0.118316  ...         1.000000  -0.310698\n",
              "away_rank         0.514813     0.040974  ...        -0.310698   1.000000\n",
              "\n",
              "[10 rows x 10 columns]"
            ]
          },
          "metadata": {
            "tags": []
          },
          "execution_count": 124
        }
      ]
    },
    {
      "cell_type": "markdown",
      "metadata": {
        "id": "772DrfR1T1ZS",
        "colab_type": "text"
      },
      "source": [
        "7. Implementing the Solution"
      ]
    },
    {
      "cell_type": "markdown",
      "metadata": {
        "id": "HKd2229XvGGP",
        "colab_type": "text"
      },
      "source": [
        "**Polynomial Regression: The First Approach**"
      ]
    },
    {
      "cell_type": "markdown",
      "metadata": {
        "id": "TFO7HuEr41MH",
        "colab_type": "text"
      },
      "source": [
        "In this approach, we train:\n",
        "\n",
        "\n",
        "*   Rank of home team\n",
        "*   Rank of away team\n",
        "*   Tournament type\n",
        "\n",
        "Using two models to predict:\n",
        "\n",
        "\n",
        "*   How many goals the home team scores\n",
        "*   How many goals the away team scores\n",
        "\n",
        "\n",
        "\n",
        "\n",
        "\n",
        "\n",
        "\n",
        "\n",
        "\n",
        "\n"
      ]
    },
    {
      "cell_type": "code",
      "metadata": {
        "id": "3PPl6FpaT8FE",
        "colab_type": "code",
        "colab": {
          "base_uri": "https://localhost:8080/",
          "height": 90
        },
        "outputId": "b6f7c0bd-e6cc-4c6b-edc1-e323cc9ccb89"
      },
      "source": [
        "# Creating the tournament column into types(world cup, friendly or other)\n",
        "poly_data = df.copy()\n",
        "def tournament_type(a):\n",
        "    if a == 'Friendly':\n",
        "        return 'Friendly'\n",
        "    elif a == 'FIFA World Cup':\n",
        "        return 'World cup'\n",
        "    else:\n",
        "        return 'Other'\n",
        "      \n",
        "poly_data['tournament_type'] = poly_data['tournament'].apply(lambda t: tournament_type(t))\n",
        "poly_data['tournament_type'].value_counts()"
      ],
      "execution_count": 125,
      "outputs": [
        {
          "output_type": "execute_result",
          "data": {
            "text/plain": [
              "Other        17796\n",
              "Friendly     10326\n",
              "World cup      396\n",
              "Name: tournament_type, dtype: int64"
            ]
          },
          "metadata": {
            "tags": []
          },
          "execution_count": 125
        }
      ]
    },
    {
      "cell_type": "code",
      "metadata": {
        "id": "bojphENVOenP",
        "colab_type": "code",
        "colab": {}
      },
      "source": [
        "# Specifying the columns to use in the modelling process\n",
        "poly_data.drop(['country', 'home_team', 'away_team', 'tournament', 'month', 'year'], axis=1, inplace=True)"
      ],
      "execution_count": 126,
      "outputs": []
    },
    {
      "cell_type": "code",
      "metadata": {
        "id": "lw02zzJ6SvQo",
        "colab_type": "code",
        "colab": {
          "base_uri": "https://localhost:8080/",
          "height": 54
        },
        "outputId": "5a10b0de-7e02-47f4-cb04-7ca3a0ac859b"
      },
      "source": [
        "# Initialising the label encoder to tranform the neutral and tournament type columns to numerical format\n",
        "label_encoder = preprocessing.LabelEncoder() \n",
        "poly_data['neutral']= label_encoder.fit_transform(poly_data['neutral']) \n",
        "print(poly_data['neutral'].unique())\n",
        "poly_data['tournament_type']= label_encoder.fit_transform(poly_data['tournament_type']) \n",
        "print(poly_data['tournament_type'].unique()) "
      ],
      "execution_count": 127,
      "outputs": [
        {
          "output_type": "stream",
          "text": [
            "[0 1]\n",
            "[0 1 2]\n"
          ],
          "name": "stdout"
        }
      ]
    },
    {
      "cell_type": "markdown",
      "metadata": {
        "id": "AVO490ndTWv8",
        "colab_type": "text"
      },
      "source": [
        "Using Polynomial Regression to Predict the Home Team Scores: The First Model"
      ]
    },
    {
      "cell_type": "markdown",
      "metadata": {
        "id": "_tRUuBDtjgBd",
        "colab_type": "text"
      },
      "source": [
        "An issue with multivariate polynomial regression is multicollinearity which is the interdependence between predictors that restricts the model from properly fitting the dataset."
      ]
    },
    {
      "cell_type": "code",
      "metadata": {
        "id": "gRRyFw0vOcxk",
        "colab_type": "code",
        "colab": {}
      },
      "source": [
        "# Using VIF to check for multicollinearity\n",
        "def calc_vif(a):\n",
        "\n",
        "    # Calculating VIF\n",
        "    vif = pd.DataFrame()\n",
        "    vif[\"variables\"] = a.columns\n",
        "    vif[\"VIF\"] = [variance_inflation_factor(a.values, i) for i in range(a.shape[1])]\n",
        "\n",
        "    return(vif)"
      ],
      "execution_count": 128,
      "outputs": []
    },
    {
      "cell_type": "code",
      "metadata": {
        "id": "k8PZnPjKOe5W",
        "colab_type": "code",
        "colab": {}
      },
      "source": [
        "# Defining the features and target variable\n",
        "X = poly_data.drop(['home_score'], axis=1)\n",
        "y = poly_data['home_score']"
      ],
      "execution_count": 129,
      "outputs": []
    },
    {
      "cell_type": "code",
      "metadata": {
        "id": "ucwPi0l1lrnc",
        "colab_type": "code",
        "colab": {
          "base_uri": "https://localhost:8080/",
          "height": 288
        },
        "outputId": "1db58e0e-0c25-44bc-bd60-822e017555bf"
      },
      "source": [
        "a = X\n",
        "calc_vif(a)"
      ],
      "execution_count": 130,
      "outputs": [
        {
          "output_type": "execute_result",
          "data": {
            "text/html": [
              "<div>\n",
              "<style scoped>\n",
              "    .dataframe tbody tr th:only-of-type {\n",
              "        vertical-align: middle;\n",
              "    }\n",
              "\n",
              "    .dataframe tbody tr th {\n",
              "        vertical-align: top;\n",
              "    }\n",
              "\n",
              "    .dataframe thead th {\n",
              "        text-align: right;\n",
              "    }\n",
              "</style>\n",
              "<table border=\"1\" class=\"dataframe\">\n",
              "  <thead>\n",
              "    <tr style=\"text-align: right;\">\n",
              "      <th></th>\n",
              "      <th>variables</th>\n",
              "      <th>VIF</th>\n",
              "    </tr>\n",
              "  </thead>\n",
              "  <tbody>\n",
              "    <tr>\n",
              "      <th>0</th>\n",
              "      <td>home_rank</td>\n",
              "      <td>5.481928</td>\n",
              "    </tr>\n",
              "    <tr>\n",
              "      <th>1</th>\n",
              "      <td>rank_change</td>\n",
              "      <td>1.047260</td>\n",
              "    </tr>\n",
              "    <tr>\n",
              "      <th>2</th>\n",
              "      <td>away_score</td>\n",
              "      <td>2.028386</td>\n",
              "    </tr>\n",
              "    <tr>\n",
              "      <th>3</th>\n",
              "      <td>neutral</td>\n",
              "      <td>1.582259</td>\n",
              "    </tr>\n",
              "    <tr>\n",
              "      <th>4</th>\n",
              "      <td>total_points</td>\n",
              "      <td>1.779042</td>\n",
              "    </tr>\n",
              "    <tr>\n",
              "      <th>5</th>\n",
              "      <td>previous_points</td>\n",
              "      <td>2.884468</td>\n",
              "    </tr>\n",
              "    <tr>\n",
              "      <th>6</th>\n",
              "      <td>away_rank</td>\n",
              "      <td>4.977390</td>\n",
              "    </tr>\n",
              "    <tr>\n",
              "      <th>7</th>\n",
              "      <td>tournament_type</td>\n",
              "      <td>2.647529</td>\n",
              "    </tr>\n",
              "  </tbody>\n",
              "</table>\n",
              "</div>"
            ],
            "text/plain": [
              "         variables       VIF\n",
              "0        home_rank  5.481928\n",
              "1      rank_change  1.047260\n",
              "2       away_score  2.028386\n",
              "3          neutral  1.582259\n",
              "4     total_points  1.779042\n",
              "5  previous_points  2.884468\n",
              "6        away_rank  4.977390\n",
              "7  tournament_type  2.647529"
            ]
          },
          "metadata": {
            "tags": []
          },
          "execution_count": 130
        }
      ]
    },
    {
      "cell_type": "markdown",
      "metadata": {
        "id": "Y8moErHZnlXg",
        "colab_type": "text"
      },
      "source": [
        "VIF value exceeding 5 indicates high multicollinearity between the variable and others.\n",
        "\n",
        "Assumption: Although the definition of the problem required us to use the ranks and tournament type to train our model, we assume the home rank will have a high effect on the model due to its high VIF therefore we drop it "
      ]
    },
    {
      "cell_type": "code",
      "metadata": {
        "id": "XQDSudPknYha",
        "colab_type": "code",
        "colab": {
          "base_uri": "https://localhost:8080/",
          "height": 258
        },
        "outputId": "17a1fd88-b484-4d48-d1b0-1a814f8ca440"
      },
      "source": [
        "# Dropping the home rank to see if the VIF values improve\n",
        "X = X.drop(['home_rank'], axis=1)\n",
        "calc_vif(X)"
      ],
      "execution_count": 131,
      "outputs": [
        {
          "output_type": "execute_result",
          "data": {
            "text/html": [
              "<div>\n",
              "<style scoped>\n",
              "    .dataframe tbody tr th:only-of-type {\n",
              "        vertical-align: middle;\n",
              "    }\n",
              "\n",
              "    .dataframe tbody tr th {\n",
              "        vertical-align: top;\n",
              "    }\n",
              "\n",
              "    .dataframe thead th {\n",
              "        text-align: right;\n",
              "    }\n",
              "</style>\n",
              "<table border=\"1\" class=\"dataframe\">\n",
              "  <thead>\n",
              "    <tr style=\"text-align: right;\">\n",
              "      <th></th>\n",
              "      <th>variables</th>\n",
              "      <th>VIF</th>\n",
              "    </tr>\n",
              "  </thead>\n",
              "  <tbody>\n",
              "    <tr>\n",
              "      <th>0</th>\n",
              "      <td>rank_change</td>\n",
              "      <td>1.046686</td>\n",
              "    </tr>\n",
              "    <tr>\n",
              "      <th>1</th>\n",
              "      <td>away_score</td>\n",
              "      <td>1.544899</td>\n",
              "    </tr>\n",
              "    <tr>\n",
              "      <th>2</th>\n",
              "      <td>neutral</td>\n",
              "      <td>1.582148</td>\n",
              "    </tr>\n",
              "    <tr>\n",
              "      <th>3</th>\n",
              "      <td>total_points</td>\n",
              "      <td>1.779023</td>\n",
              "    </tr>\n",
              "    <tr>\n",
              "      <th>4</th>\n",
              "      <td>previous_points</td>\n",
              "      <td>2.710701</td>\n",
              "    </tr>\n",
              "    <tr>\n",
              "      <th>5</th>\n",
              "      <td>away_rank</td>\n",
              "      <td>2.122137</td>\n",
              "    </tr>\n",
              "    <tr>\n",
              "      <th>6</th>\n",
              "      <td>tournament_type</td>\n",
              "      <td>2.552211</td>\n",
              "    </tr>\n",
              "  </tbody>\n",
              "</table>\n",
              "</div>"
            ],
            "text/plain": [
              "         variables       VIF\n",
              "0      rank_change  1.046686\n",
              "1       away_score  1.544899\n",
              "2          neutral  1.582148\n",
              "3     total_points  1.779023\n",
              "4  previous_points  2.710701\n",
              "5        away_rank  2.122137\n",
              "6  tournament_type  2.552211"
            ]
          },
          "metadata": {
            "tags": []
          },
          "execution_count": 131
        }
      ]
    },
    {
      "cell_type": "markdown",
      "metadata": {
        "id": "sWgMe7YipZcu",
        "colab_type": "text"
      },
      "source": [
        "The VIF values have significantly dropped, we now move to the modelling"
      ]
    },
    {
      "cell_type": "code",
      "metadata": {
        "id": "xhfbz8scg26d",
        "colab_type": "code",
        "colab": {
          "base_uri": "https://localhost:8080/",
          "height": 295
        },
        "outputId": "17f2ec90-b9ef-44d9-b058-8b51b9f5ff32"
      },
      "source": [
        "# Visualising the relationship between the home and away scores\n",
        "plt.scatter(X['away_score'], y, c='blue')\n",
        "plt.title('Home and Away Scores Scatterplot')\n",
        "plt.xlabel('Away Scores')\n",
        "plt.ylabel('Home Scores')\n",
        "plt.show()"
      ],
      "execution_count": 132,
      "outputs": [
        {
          "output_type": "display_data",
          "data": {
            "image/png": "[encoded data removed]",
            "text/plain": [
              "<Figure size 432x288 with 1 Axes>"
            ]
          },
          "metadata": {
            "tags": [],
            "needs_background": "light"
          }
        }
      ]
    },
    {
      "cell_type": "code",
      "metadata": {
        "id": "lfzfIM3BUiX0",
        "colab_type": "code",
        "colab": {}
      },
      "source": [
        "# Splitting the data into training and test sets\n",
        "X_train, X_test, y_train, y_test = train_test_split(X, y, test_size = .3, random_state=25)"
      ],
      "execution_count": 133,
      "outputs": []
    },
    {
      "cell_type": "code",
      "metadata": {
        "id": "M1d5bzAqWwnh",
        "colab_type": "code",
        "colab": {}
      },
      "source": [
        "# Fitting a Polynomial Regression to the dataset\n",
        "poly_reg = PolynomialFeatures(degree = 2) \n",
        "X_poly = poly_reg.fit_transform(X)"
      ],
      "execution_count": 134,
      "outputs": []
    },
    {
      "cell_type": "code",
      "metadata": {
        "id": "rD6My-Rkz86k",
        "colab_type": "code",
        "colab": {}
      },
      "source": [
        "X_train = poly_reg.fit_transform(X_train)\n",
        "X_test = poly_reg.fit_transform(X_test)"
      ],
      "execution_count": 135,
      "outputs": []
    },
    {
      "cell_type": "code",
      "metadata": {
        "id": "ZTvt0EW50DVq",
        "colab_type": "code",
        "colab": {
          "base_uri": "https://localhost:8080/",
          "height": 35
        },
        "outputId": "5d3b660a-e76d-406d-b0a7-245a2dab531c"
      },
      "source": [
        "# Training the model\n",
        "pol_reg = LinearRegression()\n",
        "pol_reg.fit(X_train, y_train)\n",
        "\n",
        "# Running the prediction\n",
        "y_pred = pol_reg.predict(X_test)\n",
        "y_pred\n",
        "\n",
        "# Calculating the RMSE\n",
        "print(\"The RMSE score for the model : \", np.sqrt(metrics.mean_squared_error(y_test, y_pred)))\n"
      ],
      "execution_count": 136,
      "outputs": [
        {
          "output_type": "stream",
          "text": [
            "The RMSE score for the model :  1.4363927584533813\n"
          ],
          "name": "stdout"
        }
      ]
    },
    {
      "cell_type": "markdown",
      "metadata": {
        "id": "j-riL2fSzjwQ",
        "colab_type": "text"
      },
      "source": [
        "Checking for heteroskedasticity using Bartlett's test"
      ]
    },
    {
      "cell_type": "code",
      "metadata": {
        "id": "4AMhLgf1ziJ0",
        "colab_type": "code",
        "colab": {
          "base_uri": "https://localhost:8080/",
          "height": 295
        },
        "outputId": "cc4363df-418a-435a-aba1-1475dafc643b"
      },
      "source": [
        "# Plotting the residuals\n",
        "residuals = y_pred - y_test\n",
        "plt.scatter(y_pred, residuals, c='blue')\n",
        "plt.title('Residual Plot')\n",
        "plt.xlabel('Predicted values')\n",
        "plt.ylabel('Residuals')\n",
        "plt.axhline(y= residuals.mean(), color='red')\n",
        "plt.show()"
      ],
      "execution_count": 137,
      "outputs": [
        {
          "output_type": "display_data",
          "data": {
            "image/png": "[encoded data removed]",
            "text/plain": [
              "<Figure size 432x288 with 1 Axes>"
            ]
          },
          "metadata": {
            "tags": [],
            "needs_background": "light"
          }
        }
      ]
    },
    {
      "cell_type": "markdown",
      "metadata": {
        "id": "tMLItVxn30eE",
        "colab_type": "text"
      },
      "source": [
        "Heteroscedasticity means unequal scatter. The residual plot above has a slight cone shape towards the right which might indicate heteroscedasticity but let's test for this using Bartlett's test to be sure"
      ]
    },
    {
      "cell_type": "code",
      "metadata": {
        "id": "B-NsrMlT3eyh",
        "colab_type": "code",
        "colab": {
          "base_uri": "https://localhost:8080/",
          "height": 35
        },
        "outputId": "aea4adf0-76cc-4f6a-ab29-7dbc5a9a968f"
      },
      "source": [
        "#Using Bartlett's test\n",
        "test_result, p_value = sp.stats.bartlett(y_pred, residuals)\n",
        "\n",
        "# To interpret the results we must also compute a critical value of the chi squared distribution\n",
        "degree_of_freedom = len(y_pred)-1\n",
        "probability = 1 - p_value\n",
        "\n",
        "critical_value = sp.stats.chi2.ppf(probability, degree_of_freedom)\n",
        "\n",
        "\n",
        "# If the test_result is greater than the critical value, then we reject our null\n",
        "# hypothesis. This would mean that there are patterns to the variance of the data\n",
        "\n",
        "# Otherwise, we can identify no patterns, and we accept the null hypothesis that \n",
        "# the variance is homogeneous across our data\n",
        "\n",
        "if (test_result > critical_value):\n",
        "  print('the variances are unequal, and the model should be reassessed')\n",
        "else:\n",
        "  print('the variances are homogeneous!')\n"
      ],
      "execution_count": 138,
      "outputs": [
        {
          "output_type": "stream",
          "text": [
            "the variances are homogeneous!\n"
          ],
          "name": "stdout"
        }
      ]
    },
    {
      "cell_type": "markdown",
      "metadata": {
        "id": "Fkf4vlng5Eu2",
        "colab_type": "text"
      },
      "source": [
        "Our variances have a uniform scatter and there's no need to reassess the model"
      ]
    },
    {
      "cell_type": "markdown",
      "metadata": {
        "id": "2iCbTSRQ51W9",
        "colab_type": "text"
      },
      "source": [
        "Using Polynomial Regression to Predict the Away Team Scores: The Second Model"
      ]
    },
    {
      "cell_type": "code",
      "metadata": {
        "id": "11CM6QEf58gR",
        "colab_type": "code",
        "colab": {}
      },
      "source": [
        "# Defining the features and target variable\n",
        "X = poly_data.drop(['away_score'], axis=1)\n",
        "y = poly_data['away_score']"
      ],
      "execution_count": 139,
      "outputs": []
    },
    {
      "cell_type": "code",
      "metadata": {
        "id": "vHxBBLHP6mEi",
        "colab_type": "code",
        "colab": {}
      },
      "source": [
        "# Splitting the data into training and test sets\n",
        "X_train, X_test, y_train, y_test = train_test_split(X, y, test_size = .3, random_state=25)"
      ],
      "execution_count": 140,
      "outputs": []
    },
    {
      "cell_type": "code",
      "metadata": {
        "id": "xNH6ABxg58tq",
        "colab_type": "code",
        "colab": {}
      },
      "source": [
        "# Fitting a Polynomial Regression to the dataset\n",
        "poly_reg = PolynomialFeatures(degree = 2) \n",
        "X_poly = poly_reg.fit_transform(X)"
      ],
      "execution_count": 141,
      "outputs": []
    },
    {
      "cell_type": "code",
      "metadata": {
        "id": "nNQTtN7HIaBe",
        "colab_type": "code",
        "colab": {}
      },
      "source": [
        "X_train = poly_reg.fit_transform(X_train)\n",
        "X_test = poly_reg.fit_transform(X_test)"
      ],
      "execution_count": 142,
      "outputs": []
    },
    {
      "cell_type": "code",
      "metadata": {
        "id": "9-IO2u2RIhGl",
        "colab_type": "code",
        "colab": {
          "base_uri": "https://localhost:8080/",
          "height": 35
        },
        "outputId": "505555d6-aa70-495a-9bc7-9760309cec3f"
      },
      "source": [
        "# Training the model\n",
        "pol_reg = LinearRegression()\n",
        "pol_reg.fit(X_train, y_train)\n",
        "\n",
        "# Running the prediction\n",
        "y_pred = pol_reg.predict(X_test)\n",
        "y_pred\n",
        "\n",
        "# Calculating the RMSE\n",
        "print(\"The RMSE score for the model : \", np.sqrt(metrics.mean_squared_error(y_test, y_pred)))"
      ],
      "execution_count": 143,
      "outputs": [
        {
          "output_type": "stream",
          "text": [
            "The RMSE score for the model :  1.1505712903171184\n"
          ],
          "name": "stdout"
        }
      ]
    },
    {
      "cell_type": "code",
      "metadata": {
        "id": "nQxdwk_5Ixle",
        "colab_type": "code",
        "colab": {
          "base_uri": "https://localhost:8080/",
          "height": 295
        },
        "outputId": "7a7991b4-6079-4a62-f963-6bf5769673ee"
      },
      "source": [
        "# Plotting the residuals\n",
        "residuals = y_pred - y_test\n",
        "plt.scatter(y_pred, residuals, c='blue')\n",
        "plt.title('Residual Plot')\n",
        "plt.xlabel('Predicted values')\n",
        "plt.ylabel('Residuals')\n",
        "plt.axhline(y= residuals.mean(), color='red')\n",
        "plt.show()"
      ],
      "execution_count": 144,
      "outputs": [
        {
          "output_type": "display_data",
          "data": {
            "image/png": "[encoded data removed]",
            "text/plain": [
              "<Figure size 432x288 with 1 Axes>"
            ]
          },
          "metadata": {
            "tags": [],
            "needs_background": "light"
          }
        }
      ]
    },
    {
      "cell_type": "code",
      "metadata": {
        "id": "vqOgMcUsI6m8",
        "colab_type": "code",
        "colab": {
          "base_uri": "https://localhost:8080/",
          "height": 35
        },
        "outputId": "159f2cb8-6949-4ebd-9a80-cdb6183cc831"
      },
      "source": [
        "#Using Bartlett's test\n",
        "test_result, p_value = sp.stats.bartlett(y_pred, residuals)\n",
        "\n",
        "# To interpret the results we must also compute a critical value of the chi squared distribution\n",
        "degree_of_freedom = len(y_pred)-1\n",
        "probability = 1 - p_value\n",
        "\n",
        "critical_value = sp.stats.chi2.ppf(probability, degree_of_freedom)\n",
        "\n",
        "\n",
        "# If the test_result is greater than the critical value, then we reject our null\n",
        "# hypothesis. This would mean that there are patterns to the variance of the data\n",
        "\n",
        "# Otherwise, we can identify no patterns, and we accept the null hypothesis that \n",
        "# the variance is homogeneous across our data\n",
        "\n",
        "if (test_result > critical_value):\n",
        "  print('the variances are unequal, and the model should be reassessed')\n",
        "else:\n",
        "  print('the variances are homogeneous!')"
      ],
      "execution_count": 145,
      "outputs": [
        {
          "output_type": "stream",
          "text": [
            "the variances are homogeneous!\n"
          ],
          "name": "stdout"
        }
      ]
    },
    {
      "cell_type": "markdown",
      "metadata": {
        "id": "BpiipZN0JE1Z",
        "colab_type": "text"
      },
      "source": [
        "The RMSE of model 2 is smaller than that of model 1. The pattern of the residual plot should be further investigated to see what is contributing to it, whether a variable is influencing it or not."
      ]
    },
    {
      "cell_type": "markdown",
      "metadata": {
        "id": "faeUGVWdvOR9",
        "colab_type": "text"
      },
      "source": [
        "**Logistic Regression: The Second Approach**\n",
        "\n",
        "\n",
        "\n",
        "Using feature Engineering to figure out from the home's perspective if the game is a  win, lose or draw"
      ]
    },
    {
      "cell_type": "code",
      "metadata": {
        "id": "4N5W-tmevVJb",
        "colab_type": "code",
        "colab": {
          "base_uri": "https://localhost:8080/",
          "height": 227
        },
        "outputId": "37fa7fc3-ae38-4688-b3e8-b9fcff159cb4"
      },
      "source": [
        "# Creating a new column in our data\n",
        "df['home_away_difference'] = df['home_score'] - df['away_score']\n",
        "df.head(3)"
      ],
      "execution_count": 146,
      "outputs": [
        {
          "output_type": "execute_result",
          "data": {
            "text/html": [
              "<div>\n",
              "<style scoped>\n",
              "    .dataframe tbody tr th:only-of-type {\n",
              "        vertical-align: middle;\n",
              "    }\n",
              "\n",
              "    .dataframe tbody tr th {\n",
              "        vertical-align: top;\n",
              "    }\n",
              "\n",
              "    .dataframe thead th {\n",
              "        text-align: right;\n",
              "    }\n",
              "</style>\n",
              "<table border=\"1\" class=\"dataframe\">\n",
              "  <thead>\n",
              "    <tr style=\"text-align: right;\">\n",
              "      <th></th>\n",
              "      <th>home_rank</th>\n",
              "      <th>rank_change</th>\n",
              "      <th>country</th>\n",
              "      <th>home_team</th>\n",
              "      <th>away_team</th>\n",
              "      <th>home_score</th>\n",
              "      <th>away_score</th>\n",
              "      <th>tournament</th>\n",
              "      <th>neutral</th>\n",
              "      <th>month</th>\n",
              "      <th>year</th>\n",
              "      <th>total_points</th>\n",
              "      <th>previous_points</th>\n",
              "      <th>away_rank</th>\n",
              "      <th>home_away_difference</th>\n",
              "    </tr>\n",
              "  </thead>\n",
              "  <tbody>\n",
              "    <tr>\n",
              "      <th>0</th>\n",
              "      <td>4</td>\n",
              "      <td>0</td>\n",
              "      <td>Sweden</td>\n",
              "      <td>Sweden</td>\n",
              "      <td>Switzerland</td>\n",
              "      <td>1</td>\n",
              "      <td>2</td>\n",
              "      <td>Friendly</td>\n",
              "      <td>False</td>\n",
              "      <td>8</td>\n",
              "      <td>1993</td>\n",
              "      <td>0.0</td>\n",
              "      <td>55</td>\n",
              "      <td>3</td>\n",
              "      <td>-1</td>\n",
              "    </tr>\n",
              "    <tr>\n",
              "      <th>1</th>\n",
              "      <td>4</td>\n",
              "      <td>0</td>\n",
              "      <td>Sweden</td>\n",
              "      <td>Sweden</td>\n",
              "      <td>France</td>\n",
              "      <td>1</td>\n",
              "      <td>1</td>\n",
              "      <td>FIFA World Cup qualification</td>\n",
              "      <td>False</td>\n",
              "      <td>8</td>\n",
              "      <td>1993</td>\n",
              "      <td>0.0</td>\n",
              "      <td>55</td>\n",
              "      <td>12</td>\n",
              "      <td>0</td>\n",
              "    </tr>\n",
              "    <tr>\n",
              "      <th>2</th>\n",
              "      <td>5</td>\n",
              "      <td>5</td>\n",
              "      <td>Argentina</td>\n",
              "      <td>Argentina</td>\n",
              "      <td>Peru</td>\n",
              "      <td>2</td>\n",
              "      <td>1</td>\n",
              "      <td>FIFA World Cup qualification</td>\n",
              "      <td>False</td>\n",
              "      <td>8</td>\n",
              "      <td>1993</td>\n",
              "      <td>0.0</td>\n",
              "      <td>51</td>\n",
              "      <td>70</td>\n",
              "      <td>1</td>\n",
              "    </tr>\n",
              "  </tbody>\n",
              "</table>\n",
              "</div>"
            ],
            "text/plain": [
              "   home_rank  rank_change  ... away_rank home_away_difference\n",
              "0          4            0  ...         3                   -1\n",
              "1          4            0  ...        12                    0\n",
              "2          5            5  ...        70                    1\n",
              "\n",
              "[3 rows x 15 columns]"
            ]
          },
          "metadata": {
            "tags": []
          },
          "execution_count": 146
        }
      ]
    },
    {
      "cell_type": "code",
      "metadata": {
        "id": "WfYcPzcEvVff",
        "colab_type": "code",
        "colab": {}
      },
      "source": [
        "# Using the difference to determine the status of the game\n",
        "def status_determiner(home_scores):\n",
        "    if home_scores > 0:\n",
        "        return 'Win'\n",
        "    elif home_scores < 0:\n",
        "        return 'Lose'\n",
        "    else:\n",
        "        return 'Draw'\n",
        "      \n",
        "df['status'] = df['home_away_difference'].apply(lambda h: status_determiner(h))"
      ],
      "execution_count": 147,
      "outputs": []
    },
    {
      "cell_type": "markdown",
      "metadata": {
        "id": "lfsJNxOMqyV6",
        "colab_type": "text"
      },
      "source": [
        "Building a Multinomial Logistic Regression model"
      ]
    },
    {
      "cell_type": "markdown",
      "metadata": {
        "id": "tE4molzYyD7n",
        "colab_type": "text"
      },
      "source": [
        "Assumption: Some of the variables in the whole dataset have no effect on our target therefore they are not relevant in the prediction and they need to be dropped"
      ]
    },
    {
      "cell_type": "code",
      "metadata": {
        "id": "O1vmJoy3GsYV",
        "colab_type": "code",
        "colab": {}
      },
      "source": [
        "# Dropping the columns that will not be used in the model\n",
        "model_data = df.copy()\n",
        "model_data.drop(['country', 'home_team', 'away_team', 'month', 'year', 'home_away_difference', 'tournament'], axis=1, inplace=True)"
      ],
      "execution_count": 148,
      "outputs": []
    },
    {
      "cell_type": "code",
      "metadata": {
        "id": "Yin9nrWQyA3c",
        "colab_type": "code",
        "colab": {
          "base_uri": "https://localhost:8080/",
          "height": 35
        },
        "outputId": "a3b31d0e-5c9d-4358-f379-635584f95e73"
      },
      "source": [
        "# Initialising the label encoder to tranform the status column to numerical format\n",
        "label_encoder = preprocessing.LabelEncoder() \n",
        "model_data['status']= label_encoder.fit_transform(model_data['status']) \n",
        "model_data['status'].unique() "
      ],
      "execution_count": 149,
      "outputs": [
        {
          "output_type": "execute_result",
          "data": {
            "text/plain": [
              "array([1, 0, 2])"
            ]
          },
          "metadata": {
            "tags": []
          },
          "execution_count": 149
        }
      ]
    },
    {
      "cell_type": "code",
      "metadata": {
        "id": "sCnAxvWXrSlA",
        "colab_type": "code",
        "colab": {}
      },
      "source": [
        "# Splitting the dataset into train and test sets\n",
        "X = model_data.drop(['status'], axis=1)\n",
        "y = model_data[['status']]\n",
        "\n",
        "X_train, X_test, y_train, y_test = train_test_split(X, y, test_size = .3, random_state=25)"
      ],
      "execution_count": 150,
      "outputs": []
    },
    {
      "cell_type": "code",
      "metadata": {
        "id": "yxvI0JTVISbe",
        "colab_type": "code",
        "colab": {}
      },
      "source": [
        "# Fitting our Logistic Regression Model\n",
        "LogReg = LogisticRegression()\n",
        "LogReg.fit(X_train, y_train)"
      ],
      "execution_count": null,
      "outputs": []
    },
    {
      "cell_type": "code",
      "metadata": {
        "id": "1tmAqbNrIbVs",
        "colab_type": "code",
        "colab": {
          "base_uri": "https://localhost:8080/",
          "height": 35
        },
        "outputId": "8b91bf38-82d6-4fba-9cf9-9a04f8e053d9"
      },
      "source": [
        "# Using our model to make a prediction\n",
        "y_pred = LogReg.predict(X_test)\n",
        "y_pred"
      ],
      "execution_count": 152,
      "outputs": [
        {
          "output_type": "execute_result",
          "data": {
            "text/plain": [
              "array([2, 2, 1, ..., 1, 2, 2], dtype=int64)"
            ]
          },
          "metadata": {
            "tags": []
          },
          "execution_count": 152
        }
      ]
    },
    {
      "cell_type": "code",
      "metadata": {
        "id": "-0Ki0B3gIpJ8",
        "colab_type": "code",
        "colab": {
          "base_uri": "https://localhost:8080/",
          "height": 72
        },
        "outputId": "cf7481d5-b337-4350-bd1f-faef7dd85fa5"
      },
      "source": [
        "# Evaluating the model using the confusion matrix\n",
        "confusion_matrix = confusion_matrix(y_test, y_pred)\n",
        "confusion_matrix"
      ],
      "execution_count": 153,
      "outputs": [
        {
          "output_type": "execute_result",
          "data": {
            "text/plain": [
              "array([[1314,  281,  394],\n",
              "       [ 390, 2031,    5],\n",
              "       [ 235,    4, 3902]])"
            ]
          },
          "metadata": {
            "tags": []
          },
          "execution_count": 153
        }
      ]
    },
    {
      "cell_type": "markdown",
      "metadata": {
        "id": "0WGHNUC3gMo2",
        "colab_type": "text"
      },
      "source": [
        "The results from the confusion matrix tell us that 1314, 2031 and 3902 are the number of correct predictions.\n"
      ]
    },
    {
      "cell_type": "code",
      "metadata": {
        "id": "8fYBg9hkf_pc",
        "colab_type": "code",
        "colab": {
          "base_uri": "https://localhost:8080/",
          "height": 54
        },
        "outputId": "e9990b9a-5d41-461e-8d2e-2414e069d55d"
      },
      "source": [
        "# Calculating the accuracy of our model\n",
        "# Computing from the confusion matrix which is:TP+TN/Total number of classified items\n",
        "accuracy_status= (1314+2031+3902)/len(y_pred)\n",
        "print(accuracy_status)\n",
        "print('Accuracy of logistic regression classifier on test set: {:.2f}'.format(LogReg.score(X_test, y_test)))"
      ],
      "execution_count": 154,
      "outputs": [
        {
          "output_type": "stream",
          "text": [
            "0.8470079476390837\n",
            "Accuracy of logistic regression classifier on test set: 0.85\n"
          ],
          "name": "stdout"
        }
      ]
    },
    {
      "cell_type": "markdown",
      "metadata": {
        "id": "D_26Y0Neg2Sz",
        "colab_type": "text"
      },
      "source": [
        "Our accuracy from both the confusion matrix and from sklearn accuracy score are similar"
      ]
    },
    {
      "cell_type": "markdown",
      "metadata": {
        "id": "MHkETiQpT--_",
        "colab_type": "text"
      },
      "source": [
        "8. Challenging the Solution"
      ]
    },
    {
      "cell_type": "code",
      "metadata": {
        "id": "7dY72QfMUFCD",
        "colab_type": "code",
        "colab": {}
      },
      "source": [
        "# Can we can improve our model through hyperparameter tuning\n",
        "# Creating the logistic regression\n",
        "logistic = linear_model.LogisticRegression()"
      ],
      "execution_count": 155,
      "outputs": []
    },
    {
      "cell_type": "code",
      "metadata": {
        "id": "TMw6OHWBUGHX",
        "colab_type": "code",
        "colab": {
          "base_uri": "https://localhost:8080/",
          "height": 72
        },
        "outputId": "263d1b45-fcc4-46d8-9373-866697a76cf4"
      },
      "source": [
        "# Creating regularization penalty space\n",
        "penalty = ['l1', 'l2']\n",
        "penalty\n",
        "# Creating regularization hyperparameter space\n",
        "C = np.logspace(0, 4, 10)\n",
        "C\n",
        "\n",
        "# Creating hyperparameter options\n",
        "hyperparameters = dict(C=C, penalty=penalty)\n",
        "hyperparameters"
      ],
      "execution_count": 156,
      "outputs": [
        {
          "output_type": "execute_result",
          "data": {
            "text/plain": [
              "{'C': array([1.00000000e+00, 2.78255940e+00, 7.74263683e+00, 2.15443469e+01,\n",
              "        5.99484250e+01, 1.66810054e+02, 4.64158883e+02, 1.29154967e+03,\n",
              "        3.59381366e+03, 1.00000000e+04]), 'penalty': ['l1', 'l2']}"
            ]
          },
          "metadata": {
            "tags": []
          },
          "execution_count": 156
        }
      ]
    },
    {
      "cell_type": "code",
      "metadata": {
        "id": "74MvVoxdlaRy",
        "colab_type": "code",
        "colab": {}
      },
      "source": [
        "# Creating grid search using 5-fold cross validation\n",
        "grid = GridSearchCV(logistic, hyperparameters, cv=5, verbose=0)"
      ],
      "execution_count": 157,
      "outputs": []
    },
    {
      "cell_type": "code",
      "metadata": {
        "id": "q_gR58mKlrwC",
        "colab_type": "code",
        "colab": {}
      },
      "source": [
        "# Fitting grid search\n",
        "best_model = grid.fit(X, y)\n",
        "best_model"
      ],
      "execution_count": null,
      "outputs": []
    },
    {
      "cell_type": "code",
      "metadata": {
        "id": "R9pPeMhpl8sj",
        "colab_type": "code",
        "colab": {
          "base_uri": "https://localhost:8080/",
          "height": 322
        },
        "outputId": "cef1a24f-f810-4813-e94d-53f273cb094f"
      },
      "source": [
        "# Vieweing our cv results in a dataframe\n",
        "grid.cv_results_\n",
        "grid_df = pd.DataFrame(grid.cv_results_)\n",
        "grid_df.head()"
      ],
      "execution_count": 160,
      "outputs": [
        {
          "output_type": "execute_result",
          "data": {
            "text/html": [
              "<div>\n",
              "<style scoped>\n",
              "    .dataframe tbody tr th:only-of-type {\n",
              "        vertical-align: middle;\n",
              "    }\n",
              "\n",
              "    .dataframe tbody tr th {\n",
              "        vertical-align: top;\n",
              "    }\n",
              "\n",
              "    .dataframe thead th {\n",
              "        text-align: right;\n",
              "    }\n",
              "</style>\n",
              "<table border=\"1\" class=\"dataframe\">\n",
              "  <thead>\n",
              "    <tr style=\"text-align: right;\">\n",
              "      <th></th>\n",
              "      <th>mean_fit_time</th>\n",
              "      <th>std_fit_time</th>\n",
              "      <th>mean_score_time</th>\n",
              "      <th>std_score_time</th>\n",
              "      <th>param_C</th>\n",
              "      <th>param_penalty</th>\n",
              "      <th>params</th>\n",
              "      <th>split0_test_score</th>\n",
              "      <th>split1_test_score</th>\n",
              "      <th>split2_test_score</th>\n",
              "      <th>split3_test_score</th>\n",
              "      <th>split4_test_score</th>\n",
              "      <th>mean_test_score</th>\n",
              "      <th>std_test_score</th>\n",
              "      <th>rank_test_score</th>\n",
              "    </tr>\n",
              "  </thead>\n",
              "  <tbody>\n",
              "    <tr>\n",
              "      <th>0</th>\n",
              "      <td>0.004750</td>\n",
              "      <td>0.000232</td>\n",
              "      <td>0.000000</td>\n",
              "      <td>0.000000</td>\n",
              "      <td>1</td>\n",
              "      <td>l1</td>\n",
              "      <td>{'C': 1.0, 'penalty': 'l1'}</td>\n",
              "      <td>NaN</td>\n",
              "      <td>NaN</td>\n",
              "      <td>NaN</td>\n",
              "      <td>NaN</td>\n",
              "      <td>NaN</td>\n",
              "      <td>NaN</td>\n",
              "      <td>NaN</td>\n",
              "      <td>20</td>\n",
              "    </tr>\n",
              "    <tr>\n",
              "      <th>1</th>\n",
              "      <td>1.258876</td>\n",
              "      <td>0.019457</td>\n",
              "      <td>0.006222</td>\n",
              "      <td>0.000159</td>\n",
              "      <td>1</td>\n",
              "      <td>l2</td>\n",
              "      <td>{'C': 1.0, 'penalty': 'l2'}</td>\n",
              "      <td>0.819074</td>\n",
              "      <td>0.833450</td>\n",
              "      <td>0.826964</td>\n",
              "      <td>0.827985</td>\n",
              "      <td>0.849027</td>\n",
              "      <td>0.831300</td>\n",
              "      <td>0.009981</td>\n",
              "      <td>5</td>\n",
              "    </tr>\n",
              "    <tr>\n",
              "      <th>2</th>\n",
              "      <td>0.004106</td>\n",
              "      <td>0.000196</td>\n",
              "      <td>0.000000</td>\n",
              "      <td>0.000000</td>\n",
              "      <td>2.78256</td>\n",
              "      <td>l1</td>\n",
              "      <td>{'C': 2.7825594022071245, 'penalty': 'l1'}</td>\n",
              "      <td>NaN</td>\n",
              "      <td>NaN</td>\n",
              "      <td>NaN</td>\n",
              "      <td>NaN</td>\n",
              "      <td>NaN</td>\n",
              "      <td>NaN</td>\n",
              "      <td>NaN</td>\n",
              "      <td>19</td>\n",
              "    </tr>\n",
              "    <tr>\n",
              "      <th>3</th>\n",
              "      <td>1.273068</td>\n",
              "      <td>0.027417</td>\n",
              "      <td>0.006246</td>\n",
              "      <td>0.000299</td>\n",
              "      <td>2.78256</td>\n",
              "      <td>l2</td>\n",
              "      <td>{'C': 2.7825594022071245, 'penalty': 'l2'}</td>\n",
              "      <td>0.815919</td>\n",
              "      <td>0.834502</td>\n",
              "      <td>0.821529</td>\n",
              "      <td>0.829739</td>\n",
              "      <td>0.844468</td>\n",
              "      <td>0.829231</td>\n",
              "      <td>0.009967</td>\n",
              "      <td>9</td>\n",
              "    </tr>\n",
              "    <tr>\n",
              "      <th>4</th>\n",
              "      <td>0.003904</td>\n",
              "      <td>0.000168</td>\n",
              "      <td>0.000000</td>\n",
              "      <td>0.000000</td>\n",
              "      <td>7.74264</td>\n",
              "      <td>l1</td>\n",
              "      <td>{'C': 7.742636826811269, 'penalty': 'l1'}</td>\n",
              "      <td>NaN</td>\n",
              "      <td>NaN</td>\n",
              "      <td>NaN</td>\n",
              "      <td>NaN</td>\n",
              "      <td>NaN</td>\n",
              "      <td>NaN</td>\n",
              "      <td>NaN</td>\n",
              "      <td>12</td>\n",
              "    </tr>\n",
              "  </tbody>\n",
              "</table>\n",
              "</div>"
            ],
            "text/plain": [
              "   mean_fit_time  std_fit_time  ...  std_test_score  rank_test_score\n",
              "0       0.004750      0.000232  ...             NaN               20\n",
              "1       1.258876      0.019457  ...        0.009981                5\n",
              "2       0.004106      0.000196  ...             NaN               19\n",
              "3       1.273068      0.027417  ...        0.009967                9\n",
              "4       0.003904      0.000168  ...             NaN               12\n",
              "\n",
              "[5 rows x 15 columns]"
            ]
          },
          "metadata": {
            "tags": []
          },
          "execution_count": 160
        }
      ]
    },
    {
      "cell_type": "code",
      "metadata": {
        "id": "i3uHcoyllzmu",
        "colab_type": "code",
        "colab": {
          "base_uri": "https://localhost:8080/",
          "height": 54
        },
        "outputId": "8ba4378a-37b4-41f7-a681-9fb535ce0698"
      },
      "source": [
        "# Viewing best hyperparameters\n",
        "print('Best Penalty:', best_model.best_estimator_.get_params()['penalty'])\n",
        "print('Best C:', best_model.best_estimator_.get_params()['C'])"
      ],
      "execution_count": 159,
      "outputs": [
        {
          "output_type": "stream",
          "text": [
            "Best Penalty: l2\n",
            "Best C: 21.544346900318832\n"
          ],
          "name": "stdout"
        }
      ]
    },
    {
      "cell_type": "code",
      "metadata": {
        "id": "wCScM42dnQEU",
        "colab_type": "code",
        "colab": {}
      },
      "source": [
        "# Fitting our model again with the best parameters to see if there'll be a change\n",
        "LogReg = LogisticRegression(penalty='l2', C=21.5)\n",
        "LogReg.fit(X_train, y_train)\n",
        "\n",
        "# Running the prediction\n",
        "y_pred = LogReg.predict(X_test)\n",
        "y_pred\n"
      ],
      "execution_count": null,
      "outputs": []
    },
    {
      "cell_type": "code",
      "metadata": {
        "id": "zjtb3421oiO7",
        "colab_type": "code",
        "colab": {
          "base_uri": "https://localhost:8080/",
          "height": 35
        },
        "outputId": "f7db2f74-5f97-495d-913b-b2475ff81267"
      },
      "source": [
        "# Viewing our accuracy\n",
        "print('Accuracy of logistic regression classifier on test set: {:.2f}'.format(LogReg.score(X_test, y_test)))"
      ],
      "execution_count": 162,
      "outputs": [
        {
          "output_type": "stream",
          "text": [
            "Accuracy of logistic regression classifier on test set: 0.86\n"
          ],
          "name": "stdout"
        }
      ]
    },
    {
      "cell_type": "markdown",
      "metadata": {
        "id": "-v_mvOPToobV",
        "colab_type": "text"
      },
      "source": [
        "Running our model with different parameters slightly improves its accuracy as it improved from 0.85% to 0.86%"
      ]
    },
    {
      "cell_type": "markdown",
      "metadata": {
        "id": "nq4ueqvqUG_r",
        "colab_type": "text"
      },
      "source": [
        "9. Follow Up Questions"
      ]
    },
    {
      "cell_type": "markdown",
      "metadata": {
        "id": "zTavraWFURPG",
        "colab_type": "text"
      },
      "source": [
        "Did we have the right data? And was it enough to answer the question\n",
        "\n",
        "Yes, we had the right data and we asked the right questions. Our success metrics were met and maybe other algorithms could be implemented to see if there will be an improvement in performance of the models."
      ]
    }
  ]
}
